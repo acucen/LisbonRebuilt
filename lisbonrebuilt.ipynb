{
 "cells": [
  {
   "cell_type": "markdown",
   "metadata": {},
   "source": [
    "# Lisbon Rebuilt - Notebook 1"
   ]
  },
  {
   "cell_type": "markdown",
   "metadata": {},
   "source": [
    "### A. First dataset: Collectivities"
   ]
  },
  {
   "cell_type": "markdown",
   "metadata": {},
   "source": [
    "In this section, we import a dataset containing a list of Collectivities in Lisbon Municipality, with the corresponding Foundation Date and Parish to which it belongs. With this information, we draw two plots: 1 - the number of Collectivities per Parish and 2 - the number of Collectivities per Foundation Date."
   ]
  },
  {
   "cell_type": "code",
   "execution_count": 1,
   "metadata": {},
   "outputs": [],
   "source": [
    "import pandas as pd"
   ]
  },
  {
   "cell_type": "markdown",
   "metadata": {},
   "source": [
    "Importing the dataset to a `pandas` dataframe:"
   ]
  },
  {
   "cell_type": "code",
   "execution_count": 2,
   "metadata": {},
   "outputs": [
    {
     "data": {
      "text/html": [
       "<div>\n",
       "<style scoped>\n",
       "    .dataframe tbody tr th:only-of-type {\n",
       "        vertical-align: middle;\n",
       "    }\n",
       "\n",
       "    .dataframe tbody tr th {\n",
       "        vertical-align: top;\n",
       "    }\n",
       "\n",
       "    .dataframe thead th {\n",
       "        text-align: right;\n",
       "    }\n",
       "</style>\n",
       "<table border=\"1\" class=\"dataframe\">\n",
       "  <thead>\n",
       "    <tr style=\"text-align: right;\">\n",
       "      <th></th>\n",
       "      <th>NRASS.</th>\n",
       "      <th>Nome</th>\n",
       "      <th>FUNDACAO</th>\n",
       "      <th>FREGUESIA</th>\n",
       "    </tr>\n",
       "  </thead>\n",
       "  <tbody>\n",
       "    <tr>\n",
       "      <th>0</th>\n",
       "      <td>1</td>\n",
       "      <td>ACADEMIA RECREIO ARTISTICO</td>\n",
       "      <td>15-08-1855</td>\n",
       "      <td>Santa Maria Maior</td>\n",
       "    </tr>\n",
       "    <tr>\n",
       "      <th>1</th>\n",
       "      <td>3</td>\n",
       "      <td>GRUPO DRAMÁTICO E ESCOLAR OS COMBATENTES</td>\n",
       "      <td>30-09-1906</td>\n",
       "      <td>Estrela</td>\n",
       "    </tr>\n",
       "    <tr>\n",
       "      <th>2</th>\n",
       "      <td>4</td>\n",
       "      <td>SOCIEDADE FILARMONICA ALUNOS ESPERANÇA</td>\n",
       "      <td>21-04-1850</td>\n",
       "      <td>Alcântra</td>\n",
       "    </tr>\n",
       "    <tr>\n",
       "      <th>3</th>\n",
       "      <td>5</td>\n",
       "      <td>GINASIO DO ALTO DO PINA</td>\n",
       "      <td>11-09-1911</td>\n",
       "      <td>Penha de França</td>\n",
       "    </tr>\n",
       "    <tr>\n",
       "      <th>4</th>\n",
       "      <td>6</td>\n",
       "      <td>ACADEMIA DE SANTO AMARO</td>\n",
       "      <td>10-03-1946</td>\n",
       "      <td>Alcântra</td>\n",
       "    </tr>\n",
       "  </tbody>\n",
       "</table>\n",
       "</div>"
      ],
      "text/plain": [
       "   NRASS.                                       Nome     FUNDACAO  \\\n",
       "0       1                 ACADEMIA RECREIO ARTISTICO   15-08-1855   \n",
       "1       3   GRUPO DRAMÁTICO E ESCOLAR OS COMBATENTES   30-09-1906   \n",
       "2       4     SOCIEDADE FILARMONICA ALUNOS ESPERANÇA   21-04-1850   \n",
       "3       5                    GINASIO DO ALTO DO PINA   11-09-1911   \n",
       "4       6                    ACADEMIA DE SANTO AMARO   10-03-1946   \n",
       "\n",
       "            FREGUESIA  \n",
       "0   Santa Maria Maior  \n",
       "1             Estrela  \n",
       "2            Alcântra  \n",
       "3     Penha de França  \n",
       "4            Alcântra  "
      ]
     },
     "execution_count": 2,
     "metadata": {},
     "output_type": "execute_result"
    }
   ],
   "source": [
    "# dfc: dataframe collectivities\n",
    "dfc = pd.read_csv('colectividades.csv')\n",
    "dfc.head()"
   ]
  },
  {
   "cell_type": "code",
   "execution_count": 3,
   "metadata": {},
   "outputs": [
    {
     "data": {
      "text/html": [
       "<div>\n",
       "<style scoped>\n",
       "    .dataframe tbody tr th:only-of-type {\n",
       "        vertical-align: middle;\n",
       "    }\n",
       "\n",
       "    .dataframe tbody tr th {\n",
       "        vertical-align: top;\n",
       "    }\n",
       "\n",
       "    .dataframe thead th {\n",
       "        text-align: right;\n",
       "    }\n",
       "</style>\n",
       "<table border=\"1\" class=\"dataframe\">\n",
       "  <thead>\n",
       "    <tr style=\"text-align: right;\">\n",
       "      <th></th>\n",
       "      <th>Collectivity</th>\n",
       "      <th>Foundation</th>\n",
       "      <th>Parish</th>\n",
       "    </tr>\n",
       "  </thead>\n",
       "  <tbody>\n",
       "    <tr>\n",
       "      <th>0</th>\n",
       "      <td>ACADEMIA RECREIO ARTISTICO</td>\n",
       "      <td>15-08-1855</td>\n",
       "      <td>Santa Maria Maior</td>\n",
       "    </tr>\n",
       "    <tr>\n",
       "      <th>1</th>\n",
       "      <td>GRUPO DRAMÁTICO E ESCOLAR OS COMBATENTES</td>\n",
       "      <td>30-09-1906</td>\n",
       "      <td>Estrela</td>\n",
       "    </tr>\n",
       "    <tr>\n",
       "      <th>2</th>\n",
       "      <td>SOCIEDADE FILARMONICA ALUNOS ESPERANÇA</td>\n",
       "      <td>21-04-1850</td>\n",
       "      <td>Alcântra</td>\n",
       "    </tr>\n",
       "    <tr>\n",
       "      <th>3</th>\n",
       "      <td>GINASIO DO ALTO DO PINA</td>\n",
       "      <td>11-09-1911</td>\n",
       "      <td>Penha de França</td>\n",
       "    </tr>\n",
       "    <tr>\n",
       "      <th>4</th>\n",
       "      <td>ACADEMIA DE SANTO AMARO</td>\n",
       "      <td>10-03-1946</td>\n",
       "      <td>Alcântra</td>\n",
       "    </tr>\n",
       "  </tbody>\n",
       "</table>\n",
       "</div>"
      ],
      "text/plain": [
       "                                Collectivity   Foundation              Parish\n",
       "0                 ACADEMIA RECREIO ARTISTICO   15-08-1855   Santa Maria Maior\n",
       "1   GRUPO DRAMÁTICO E ESCOLAR OS COMBATENTES   30-09-1906             Estrela\n",
       "2     SOCIEDADE FILARMONICA ALUNOS ESPERANÇA   21-04-1850            Alcântra\n",
       "3                    GINASIO DO ALTO DO PINA   11-09-1911     Penha de França\n",
       "4                    ACADEMIA DE SANTO AMARO   10-03-1946            Alcântra"
      ]
     },
     "execution_count": 3,
     "metadata": {},
     "output_type": "execute_result"
    }
   ],
   "source": [
    "dfc.drop(['NRASS.'], axis=1, inplace=True)\n",
    "dfc.rename(columns={' Nome':'Collectivity',' FUNDACAO':'Foundation',' FREGUESIA':'Parish'},\\\n",
    "           inplace=True)\n",
    "dfc.head()"
   ]
  },
  {
   "cell_type": "code",
   "execution_count": 4,
   "metadata": {},
   "outputs": [
    {
     "data": {
      "text/html": [
       "<div>\n",
       "<style scoped>\n",
       "    .dataframe tbody tr th:only-of-type {\n",
       "        vertical-align: middle;\n",
       "    }\n",
       "\n",
       "    .dataframe tbody tr th {\n",
       "        vertical-align: top;\n",
       "    }\n",
       "\n",
       "    .dataframe thead th {\n",
       "        text-align: right;\n",
       "    }\n",
       "</style>\n",
       "<table border=\"1\" class=\"dataframe\">\n",
       "  <thead>\n",
       "    <tr style=\"text-align: right;\">\n",
       "      <th></th>\n",
       "      <th>Collectivity</th>\n",
       "      <th>Foundation</th>\n",
       "      <th>Parish</th>\n",
       "    </tr>\n",
       "  </thead>\n",
       "  <tbody>\n",
       "    <tr>\n",
       "      <th>count</th>\n",
       "      <td>273</td>\n",
       "      <td>273</td>\n",
       "      <td>265</td>\n",
       "    </tr>\n",
       "    <tr>\n",
       "      <th>unique</th>\n",
       "      <td>273</td>\n",
       "      <td>270</td>\n",
       "      <td>24</td>\n",
       "    </tr>\n",
       "    <tr>\n",
       "      <th>top</th>\n",
       "      <td>CASA DA COMARCA DA SERTA</td>\n",
       "      <td>01-05-1932</td>\n",
       "      <td>Santa Maria Maior</td>\n",
       "    </tr>\n",
       "    <tr>\n",
       "      <th>freq</th>\n",
       "      <td>1</td>\n",
       "      <td>2</td>\n",
       "      <td>21</td>\n",
       "    </tr>\n",
       "  </tbody>\n",
       "</table>\n",
       "</div>"
      ],
      "text/plain": [
       "                     Collectivity   Foundation              Parish\n",
       "count                         273          273                 265\n",
       "unique                        273          270                  24\n",
       "top      CASA DA COMARCA DA SERTA   01-05-1932   Santa Maria Maior\n",
       "freq                            1            2                  21"
      ]
     },
     "execution_count": 4,
     "metadata": {},
     "output_type": "execute_result"
    }
   ],
   "source": [
    "#dfc.describe(include=\"all\")\n",
    "dfc.describe()"
   ]
  },
  {
   "cell_type": "markdown",
   "metadata": {},
   "source": [
    "We see that not all colectivities have an atrributed parish. We discard them for simplicity."
   ]
  },
  {
   "cell_type": "code",
   "execution_count": 5,
   "metadata": {},
   "outputs": [
    {
     "data": {
      "text/html": [
       "<div>\n",
       "<style scoped>\n",
       "    .dataframe tbody tr th:only-of-type {\n",
       "        vertical-align: middle;\n",
       "    }\n",
       "\n",
       "    .dataframe tbody tr th {\n",
       "        vertical-align: top;\n",
       "    }\n",
       "\n",
       "    .dataframe thead th {\n",
       "        text-align: right;\n",
       "    }\n",
       "</style>\n",
       "<table border=\"1\" class=\"dataframe\">\n",
       "  <thead>\n",
       "    <tr style=\"text-align: right;\">\n",
       "      <th></th>\n",
       "      <th>Collectivity</th>\n",
       "      <th>Foundation</th>\n",
       "      <th>Parish</th>\n",
       "    </tr>\n",
       "  </thead>\n",
       "  <tbody>\n",
       "    <tr>\n",
       "      <th>count</th>\n",
       "      <td>265</td>\n",
       "      <td>265</td>\n",
       "      <td>265</td>\n",
       "    </tr>\n",
       "    <tr>\n",
       "      <th>unique</th>\n",
       "      <td>265</td>\n",
       "      <td>262</td>\n",
       "      <td>24</td>\n",
       "    </tr>\n",
       "    <tr>\n",
       "      <th>top</th>\n",
       "      <td>CASA DA COMARCA DA SERTA</td>\n",
       "      <td>01-05-1932</td>\n",
       "      <td>Santa Maria Maior</td>\n",
       "    </tr>\n",
       "    <tr>\n",
       "      <th>freq</th>\n",
       "      <td>1</td>\n",
       "      <td>2</td>\n",
       "      <td>21</td>\n",
       "    </tr>\n",
       "  </tbody>\n",
       "</table>\n",
       "</div>"
      ],
      "text/plain": [
       "                     Collectivity   Foundation              Parish\n",
       "count                         265          265                 265\n",
       "unique                        265          262                  24\n",
       "top      CASA DA COMARCA DA SERTA   01-05-1932   Santa Maria Maior\n",
       "freq                            1            2                  21"
      ]
     },
     "execution_count": 5,
     "metadata": {},
     "output_type": "execute_result"
    }
   ],
   "source": [
    "dfc=dfc.dropna(subset=['Parish'],axis=0)\n",
    "dfc.describe(include=\"all\")"
   ]
  },
  {
   "cell_type": "markdown",
   "metadata": {},
   "source": [
    "Now we count the number of collectivities per parish:"
   ]
  },
  {
   "cell_type": "code",
   "execution_count": 6,
   "metadata": {},
   "outputs": [
    {
     "data": {
      "text/html": [
       "<div>\n",
       "<style scoped>\n",
       "    .dataframe tbody tr th:only-of-type {\n",
       "        vertical-align: middle;\n",
       "    }\n",
       "\n",
       "    .dataframe tbody tr th {\n",
       "        vertical-align: top;\n",
       "    }\n",
       "\n",
       "    .dataframe thead th {\n",
       "        text-align: right;\n",
       "    }\n",
       "</style>\n",
       "<table border=\"1\" class=\"dataframe\">\n",
       "  <thead>\n",
       "    <tr style=\"text-align: right;\">\n",
       "      <th></th>\n",
       "      <th>Parish</th>\n",
       "    </tr>\n",
       "  </thead>\n",
       "  <tbody>\n",
       "    <tr>\n",
       "      <th>Santa Maria Maior</th>\n",
       "      <td>21</td>\n",
       "    </tr>\n",
       "    <tr>\n",
       "      <th>Arroios</th>\n",
       "      <td>19</td>\n",
       "    </tr>\n",
       "    <tr>\n",
       "      <th>Marvila</th>\n",
       "      <td>18</td>\n",
       "    </tr>\n",
       "    <tr>\n",
       "      <th>São Vicente</th>\n",
       "      <td>17</td>\n",
       "    </tr>\n",
       "    <tr>\n",
       "      <th>Ajuda</th>\n",
       "      <td>14</td>\n",
       "    </tr>\n",
       "  </tbody>\n",
       "</table>\n",
       "</div>"
      ],
      "text/plain": [
       "                    Parish\n",
       " Santa Maria Maior      21\n",
       " Arroios                19\n",
       " Marvila                18\n",
       " São Vicente            17\n",
       " Ajuda                  14"
      ]
     },
     "execution_count": 6,
     "metadata": {},
     "output_type": "execute_result"
    }
   ],
   "source": [
    "# dfcc: dataframe collectivities count\n",
    "dfcc=dfc['Parish'].value_counts().to_frame()\n",
    "dfcc.head()"
   ]
  },
  {
   "cell_type": "code",
   "execution_count": 7,
   "metadata": {},
   "outputs": [
    {
     "data": {
      "text/html": [
       "<div>\n",
       "<style scoped>\n",
       "    .dataframe tbody tr th:only-of-type {\n",
       "        vertical-align: middle;\n",
       "    }\n",
       "\n",
       "    .dataframe tbody tr th {\n",
       "        vertical-align: top;\n",
       "    }\n",
       "\n",
       "    .dataframe thead th {\n",
       "        text-align: right;\n",
       "    }\n",
       "</style>\n",
       "<table border=\"1\" class=\"dataframe\">\n",
       "  <thead>\n",
       "    <tr style=\"text-align: right;\">\n",
       "      <th></th>\n",
       "      <th>Parish</th>\n",
       "      <th>Count</th>\n",
       "    </tr>\n",
       "  </thead>\n",
       "  <tbody>\n",
       "    <tr>\n",
       "      <th>0</th>\n",
       "      <td>Santa Maria Maior</td>\n",
       "      <td>21</td>\n",
       "    </tr>\n",
       "    <tr>\n",
       "      <th>1</th>\n",
       "      <td>Arroios</td>\n",
       "      <td>19</td>\n",
       "    </tr>\n",
       "    <tr>\n",
       "      <th>2</th>\n",
       "      <td>Marvila</td>\n",
       "      <td>18</td>\n",
       "    </tr>\n",
       "    <tr>\n",
       "      <th>3</th>\n",
       "      <td>São Vicente</td>\n",
       "      <td>17</td>\n",
       "    </tr>\n",
       "    <tr>\n",
       "      <th>4</th>\n",
       "      <td>Ajuda</td>\n",
       "      <td>14</td>\n",
       "    </tr>\n",
       "  </tbody>\n",
       "</table>\n",
       "</div>"
      ],
      "text/plain": [
       "               Parish  Count\n",
       "0   Santa Maria Maior     21\n",
       "1             Arroios     19\n",
       "2             Marvila     18\n",
       "3         São Vicente     17\n",
       "4               Ajuda     14"
      ]
     },
     "execution_count": 7,
     "metadata": {},
     "output_type": "execute_result"
    }
   ],
   "source": [
    "dfcc.reset_index(drop=False,inplace=True)\n",
    "dfcc.rename(columns={'index':'Parish','Parish':'Count'},inplace=True)\n",
    "dfcc.head()"
   ]
  },
  {
   "cell_type": "markdown",
   "metadata": {},
   "source": [
    "The dataframe `dfcc` is already sorted, therefore it is ready for plotting:"
   ]
  },
  {
   "cell_type": "code",
   "execution_count": 8,
   "metadata": {},
   "outputs": [],
   "source": [
    "import matplotlib.pyplot as plt"
   ]
  },
  {
   "cell_type": "code",
   "execution_count": 9,
   "metadata": {},
   "outputs": [
    {
     "data": {
      "image/png": "[encoded data removed]",
      "text/plain": [
       "<Figure size 432x288 with 1 Axes>"
      ]
     },
     "metadata": {
      "needs_background": "light"
     },
     "output_type": "display_data"
    }
   ],
   "source": [
    "parish=dfcc['Parish']\n",
    "count=dfcc['Count']\n",
    "plt.scatter(parish,count)\n",
    "plt.xticks(rotation = 90,size=10)\n",
    "plt.show()"
   ]
  },
  {
   "cell_type": "markdown",
   "metadata": {},
   "source": [
    "Let us try a different look:"
   ]
  },
  {
   "cell_type": "code",
   "execution_count": 10,
   "metadata": {},
   "outputs": [
    {
     "data": {
      "image/png": "[encoded data removed]",
      "text/plain": [
       "<Figure size 648x360 with 1 Axes>"
      ]
     },
     "metadata": {
      "needs_background": "light"
     },
     "output_type": "display_data"
    }
   ],
   "source": [
    "plt.figure(figsize=(9, 5))\n",
    "plt.title('Collectivities per Parish in Lisbon',fontsize=20)\n",
    "plt.ylabel('Number of Collectivities', fontsize=15)\n",
    "plt.xlabel('Parish',fontsize=15)\n",
    "plt.xticks(rotation = 90,size=10,fontsize=13)\n",
    "plt.yticks(fontsize=13)\n",
    "plt.bar(parish,count, width=0.4)\n",
    "plt.savefig('coll_parish.pdf',bbox_inches=\"tight\")\n",
    "#plt.show()"
   ]
  },
  {
   "cell_type": "markdown",
   "metadata": {},
   "source": [
    "Now we wish to plot the number of Collectivities per foundation year. For this we need to extract the year information from the dataset `dfc`."
   ]
  },
  {
   "cell_type": "code",
   "execution_count": 11,
   "metadata": {},
   "outputs": [],
   "source": [
    "import datetime"
   ]
  },
  {
   "cell_type": "code",
   "execution_count": 12,
   "metadata": {},
   "outputs": [
    {
     "name": "stdout",
     "output_type": "stream",
     "text": [
      "object\n",
      "datetime64[ns]\n"
     ]
    },
    {
     "data": {
      "text/html": [
       "<div>\n",
       "<style scoped>\n",
       "    .dataframe tbody tr th:only-of-type {\n",
       "        vertical-align: middle;\n",
       "    }\n",
       "\n",
       "    .dataframe tbody tr th {\n",
       "        vertical-align: top;\n",
       "    }\n",
       "\n",
       "    .dataframe thead th {\n",
       "        text-align: right;\n",
       "    }\n",
       "</style>\n",
       "<table border=\"1\" class=\"dataframe\">\n",
       "  <thead>\n",
       "    <tr style=\"text-align: right;\">\n",
       "      <th></th>\n",
       "      <th>Collectivity</th>\n",
       "      <th>Foundation</th>\n",
       "      <th>Parish</th>\n",
       "      <th>Year</th>\n",
       "    </tr>\n",
       "  </thead>\n",
       "  <tbody>\n",
       "    <tr>\n",
       "      <th>0</th>\n",
       "      <td>ACADEMIA RECREIO ARTISTICO</td>\n",
       "      <td>1855-08-15</td>\n",
       "      <td>Santa Maria Maior</td>\n",
       "      <td>1855</td>\n",
       "    </tr>\n",
       "    <tr>\n",
       "      <th>1</th>\n",
       "      <td>GRUPO DRAMÁTICO E ESCOLAR OS COMBATENTES</td>\n",
       "      <td>1906-09-30</td>\n",
       "      <td>Estrela</td>\n",
       "      <td>1906</td>\n",
       "    </tr>\n",
       "    <tr>\n",
       "      <th>2</th>\n",
       "      <td>SOCIEDADE FILARMONICA ALUNOS ESPERANÇA</td>\n",
       "      <td>1850-04-21</td>\n",
       "      <td>Alcântra</td>\n",
       "      <td>1850</td>\n",
       "    </tr>\n",
       "    <tr>\n",
       "      <th>3</th>\n",
       "      <td>GINASIO DO ALTO DO PINA</td>\n",
       "      <td>1911-09-11</td>\n",
       "      <td>Penha de França</td>\n",
       "      <td>1911</td>\n",
       "    </tr>\n",
       "    <tr>\n",
       "      <th>4</th>\n",
       "      <td>ACADEMIA DE SANTO AMARO</td>\n",
       "      <td>1946-03-10</td>\n",
       "      <td>Alcântra</td>\n",
       "      <td>1946</td>\n",
       "    </tr>\n",
       "  </tbody>\n",
       "</table>\n",
       "</div>"
      ],
      "text/plain": [
       "                                Collectivity Foundation              Parish  \\\n",
       "0                 ACADEMIA RECREIO ARTISTICO 1855-08-15   Santa Maria Maior   \n",
       "1   GRUPO DRAMÁTICO E ESCOLAR OS COMBATENTES 1906-09-30             Estrela   \n",
       "2     SOCIEDADE FILARMONICA ALUNOS ESPERANÇA 1850-04-21            Alcântra   \n",
       "3                    GINASIO DO ALTO DO PINA 1911-09-11     Penha de França   \n",
       "4                    ACADEMIA DE SANTO AMARO 1946-03-10            Alcântra   \n",
       "\n",
       "   Year  \n",
       "0  1855  \n",
       "1  1906  \n",
       "2  1850  \n",
       "3  1911  \n",
       "4  1946  "
      ]
     },
     "execution_count": 12,
     "metadata": {},
     "output_type": "execute_result"
    }
   ],
   "source": [
    "# verification of the datatype of the column 'Foundation'\n",
    "print(dfc['Foundation'].dtype)\n",
    "# conversion of the object type to a datetime type, in the corresponding format\n",
    "dfc['Foundation']=pd.to_datetime(dfc['Foundation'],format=' %d-%m-%Y')\n",
    "# verification of the new type for the column 'Foundation'\n",
    "print(dfc['Foundation'].dtype)\n",
    "# extraction of the year information and addition of a new column to the dataframe\n",
    "dfc['Year']=dfc['Foundation'].dt.year\n",
    "dfc.head()"
   ]
  },
  {
   "cell_type": "code",
   "execution_count": 13,
   "metadata": {},
   "outputs": [
    {
     "data": {
      "text/html": [
       "<div>\n",
       "<style scoped>\n",
       "    .dataframe tbody tr th:only-of-type {\n",
       "        vertical-align: middle;\n",
       "    }\n",
       "\n",
       "    .dataframe tbody tr th {\n",
       "        vertical-align: top;\n",
       "    }\n",
       "\n",
       "    .dataframe thead th {\n",
       "        text-align: right;\n",
       "    }\n",
       "</style>\n",
       "<table border=\"1\" class=\"dataframe\">\n",
       "  <thead>\n",
       "    <tr style=\"text-align: right;\">\n",
       "      <th></th>\n",
       "      <th>Year</th>\n",
       "    </tr>\n",
       "  </thead>\n",
       "  <tbody>\n",
       "    <tr>\n",
       "      <th>1975</th>\n",
       "      <td>7</td>\n",
       "    </tr>\n",
       "    <tr>\n",
       "      <th>1934</th>\n",
       "      <td>6</td>\n",
       "    </tr>\n",
       "    <tr>\n",
       "      <th>1935</th>\n",
       "      <td>6</td>\n",
       "    </tr>\n",
       "    <tr>\n",
       "      <th>1939</th>\n",
       "      <td>6</td>\n",
       "    </tr>\n",
       "    <tr>\n",
       "      <th>1920</th>\n",
       "      <td>5</td>\n",
       "    </tr>\n",
       "  </tbody>\n",
       "</table>\n",
       "</div>"
      ],
      "text/plain": [
       "      Year\n",
       "1975     7\n",
       "1934     6\n",
       "1935     6\n",
       "1939     6\n",
       "1920     5"
      ]
     },
     "execution_count": 13,
     "metadata": {},
     "output_type": "execute_result"
    }
   ],
   "source": [
    "# dfccd: dataframe collectivity counts per year\n",
    "dfccy=dfc['Year'].value_counts().to_frame()\n",
    "dfccy.head()"
   ]
  },
  {
   "cell_type": "code",
   "execution_count": 14,
   "metadata": {},
   "outputs": [
    {
     "data": {
      "text/html": [
       "<div>\n",
       "<style scoped>\n",
       "    .dataframe tbody tr th:only-of-type {\n",
       "        vertical-align: middle;\n",
       "    }\n",
       "\n",
       "    .dataframe tbody tr th {\n",
       "        vertical-align: top;\n",
       "    }\n",
       "\n",
       "    .dataframe thead th {\n",
       "        text-align: right;\n",
       "    }\n",
       "</style>\n",
       "<table border=\"1\" class=\"dataframe\">\n",
       "  <thead>\n",
       "    <tr style=\"text-align: right;\">\n",
       "      <th></th>\n",
       "      <th>Year</th>\n",
       "      <th>Count</th>\n",
       "    </tr>\n",
       "  </thead>\n",
       "  <tbody>\n",
       "    <tr>\n",
       "      <th>0</th>\n",
       "      <td>1975</td>\n",
       "      <td>7</td>\n",
       "    </tr>\n",
       "    <tr>\n",
       "      <th>1</th>\n",
       "      <td>1934</td>\n",
       "      <td>6</td>\n",
       "    </tr>\n",
       "    <tr>\n",
       "      <th>2</th>\n",
       "      <td>1935</td>\n",
       "      <td>6</td>\n",
       "    </tr>\n",
       "    <tr>\n",
       "      <th>3</th>\n",
       "      <td>1939</td>\n",
       "      <td>6</td>\n",
       "    </tr>\n",
       "    <tr>\n",
       "      <th>4</th>\n",
       "      <td>1920</td>\n",
       "      <td>5</td>\n",
       "    </tr>\n",
       "  </tbody>\n",
       "</table>\n",
       "</div>"
      ],
      "text/plain": [
       "   Year  Count\n",
       "0  1975      7\n",
       "1  1934      6\n",
       "2  1935      6\n",
       "3  1939      6\n",
       "4  1920      5"
      ]
     },
     "execution_count": 14,
     "metadata": {},
     "output_type": "execute_result"
    }
   ],
   "source": [
    "dfccy.reset_index(drop=False,inplace=True)\n",
    "dfccy.rename(columns={'index':'Year','Year':'Count'},inplace=True)\n",
    "dfccy.head()"
   ]
  },
  {
   "cell_type": "code",
   "execution_count": 15,
   "metadata": {},
   "outputs": [
    {
     "data": {
      "image/png": "[encoded data removed]",
      "text/plain": [
       "<Figure size 432x288 with 1 Axes>"
      ]
     },
     "metadata": {
      "needs_background": "light"
     },
     "output_type": "display_data"
    }
   ],
   "source": [
    "year=dfccy['Year']\n",
    "county=dfccy['Count']\n",
    "plt.bar(year,county)\n",
    "plt.show()"
   ]
  },
  {
   "cell_type": "markdown",
   "metadata": {},
   "source": [
    "There are too many bins in the above plot that add confusion to our purpose, therefore we group the years by decades."
   ]
  },
  {
   "cell_type": "code",
   "execution_count": 16,
   "metadata": {},
   "outputs": [
    {
     "data": {
      "text/plain": [
       "17.0"
      ]
     },
     "execution_count": 16,
     "metadata": {},
     "output_type": "execute_result"
    }
   ],
   "source": [
    "# calculation the numbers of groups - which will not be necessary\n",
    "(2020-1850)/10"
   ]
  },
  {
   "cell_type": "code",
   "execution_count": 17,
   "metadata": {},
   "outputs": [
    {
     "data": {
      "text/html": [
       "<div>\n",
       "<style scoped>\n",
       "    .dataframe tbody tr th:only-of-type {\n",
       "        vertical-align: middle;\n",
       "    }\n",
       "\n",
       "    .dataframe tbody tr th {\n",
       "        vertical-align: top;\n",
       "    }\n",
       "\n",
       "    .dataframe thead th {\n",
       "        text-align: right;\n",
       "    }\n",
       "</style>\n",
       "<table border=\"1\" class=\"dataframe\">\n",
       "  <thead>\n",
       "    <tr style=\"text-align: right;\">\n",
       "      <th></th>\n",
       "      <th>Year</th>\n",
       "      <th>Count</th>\n",
       "    </tr>\n",
       "    <tr>\n",
       "      <th>Year</th>\n",
       "      <th></th>\n",
       "      <th></th>\n",
       "    </tr>\n",
       "  </thead>\n",
       "  <tbody>\n",
       "    <tr>\n",
       "      <th>1850</th>\n",
       "      <td>3705</td>\n",
       "      <td>2</td>\n",
       "    </tr>\n",
       "    <tr>\n",
       "      <th>1870</th>\n",
       "      <td>7493</td>\n",
       "      <td>5</td>\n",
       "    </tr>\n",
       "    <tr>\n",
       "      <th>1880</th>\n",
       "      <td>11306</td>\n",
       "      <td>7</td>\n",
       "    </tr>\n",
       "    <tr>\n",
       "      <th>1890</th>\n",
       "      <td>15154</td>\n",
       "      <td>11</td>\n",
       "    </tr>\n",
       "    <tr>\n",
       "      <th>1900</th>\n",
       "      <td>13341</td>\n",
       "      <td>11</td>\n",
       "    </tr>\n",
       "  </tbody>\n",
       "</table>\n",
       "</div>"
      ],
      "text/plain": [
       "       Year  Count\n",
       "Year              \n",
       "1850   3705      2\n",
       "1870   7493      5\n",
       "1880  11306      7\n",
       "1890  15154     11\n",
       "1900  13341     11"
      ]
     },
     "execution_count": 17,
     "metadata": {},
     "output_type": "execute_result"
    }
   ],
   "source": [
    "# dfccd: dataset collectivities count per decade\n",
    "# extracting the integer part of the year divided by 10 and then multiplying by 10\n",
    "# thereafter, summing the numbers of foundations per decade\n",
    "dfccd=dfccy.groupby((dfccy.Year//10)*10).sum()\n",
    "dfccd.head()"
   ]
  },
  {
   "cell_type": "code",
   "execution_count": 18,
   "metadata": {},
   "outputs": [
    {
     "data": {
      "text/html": [
       "<div>\n",
       "<style scoped>\n",
       "    .dataframe tbody tr th:only-of-type {\n",
       "        vertical-align: middle;\n",
       "    }\n",
       "\n",
       "    .dataframe tbody tr th {\n",
       "        vertical-align: top;\n",
       "    }\n",
       "\n",
       "    .dataframe thead th {\n",
       "        text-align: right;\n",
       "    }\n",
       "</style>\n",
       "<table border=\"1\" class=\"dataframe\">\n",
       "  <thead>\n",
       "    <tr style=\"text-align: right;\">\n",
       "      <th></th>\n",
       "      <th>Count</th>\n",
       "    </tr>\n",
       "    <tr>\n",
       "      <th>Year</th>\n",
       "      <th></th>\n",
       "    </tr>\n",
       "  </thead>\n",
       "  <tbody>\n",
       "    <tr>\n",
       "      <th>1850</th>\n",
       "      <td>2</td>\n",
       "    </tr>\n",
       "    <tr>\n",
       "      <th>1870</th>\n",
       "      <td>5</td>\n",
       "    </tr>\n",
       "    <tr>\n",
       "      <th>1880</th>\n",
       "      <td>7</td>\n",
       "    </tr>\n",
       "    <tr>\n",
       "      <th>1890</th>\n",
       "      <td>11</td>\n",
       "    </tr>\n",
       "    <tr>\n",
       "      <th>1900</th>\n",
       "      <td>11</td>\n",
       "    </tr>\n",
       "  </tbody>\n",
       "</table>\n",
       "</div>"
      ],
      "text/plain": [
       "      Count\n",
       "Year       \n",
       "1850      2\n",
       "1870      5\n",
       "1880      7\n",
       "1890     11\n",
       "1900     11"
      ]
     },
     "execution_count": 18,
     "metadata": {},
     "output_type": "execute_result"
    }
   ],
   "source": [
    "dfccd.drop(['Year'], axis=1, inplace=True)\n",
    "dfccd.head()"
   ]
  },
  {
   "cell_type": "code",
   "execution_count": 19,
   "metadata": {},
   "outputs": [
    {
     "data": {
      "text/plain": [
       "Index(['Count'], dtype='object')"
      ]
     },
     "execution_count": 19,
     "metadata": {},
     "output_type": "execute_result"
    }
   ],
   "source": [
    "dfccd.columns"
   ]
  },
  {
   "cell_type": "code",
   "execution_count": 20,
   "metadata": {},
   "outputs": [
    {
     "data": {
      "text/html": [
       "<div>\n",
       "<style scoped>\n",
       "    .dataframe tbody tr th:only-of-type {\n",
       "        vertical-align: middle;\n",
       "    }\n",
       "\n",
       "    .dataframe tbody tr th {\n",
       "        vertical-align: top;\n",
       "    }\n",
       "\n",
       "    .dataframe thead th {\n",
       "        text-align: right;\n",
       "    }\n",
       "</style>\n",
       "<table border=\"1\" class=\"dataframe\">\n",
       "  <thead>\n",
       "    <tr style=\"text-align: right;\">\n",
       "      <th></th>\n",
       "      <th>Year</th>\n",
       "      <th>Count</th>\n",
       "    </tr>\n",
       "  </thead>\n",
       "  <tbody>\n",
       "    <tr>\n",
       "      <th>0</th>\n",
       "      <td>1850</td>\n",
       "      <td>2</td>\n",
       "    </tr>\n",
       "    <tr>\n",
       "      <th>1</th>\n",
       "      <td>1870</td>\n",
       "      <td>5</td>\n",
       "    </tr>\n",
       "    <tr>\n",
       "      <th>2</th>\n",
       "      <td>1880</td>\n",
       "      <td>7</td>\n",
       "    </tr>\n",
       "    <tr>\n",
       "      <th>3</th>\n",
       "      <td>1890</td>\n",
       "      <td>11</td>\n",
       "    </tr>\n",
       "    <tr>\n",
       "      <th>4</th>\n",
       "      <td>1900</td>\n",
       "      <td>11</td>\n",
       "    </tr>\n",
       "  </tbody>\n",
       "</table>\n",
       "</div>"
      ],
      "text/plain": [
       "   Year  Count\n",
       "0  1850      2\n",
       "1  1870      5\n",
       "2  1880      7\n",
       "3  1890     11\n",
       "4  1900     11"
      ]
     },
     "execution_count": 20,
     "metadata": {},
     "output_type": "execute_result"
    }
   ],
   "source": [
    "dfccd.reset_index(drop=False,inplace=True)\n",
    "dfccd.head()"
   ]
  },
  {
   "cell_type": "code",
   "execution_count": 21,
   "metadata": {},
   "outputs": [
    {
     "data": {
      "text/html": [
       "<div>\n",
       "<style scoped>\n",
       "    .dataframe tbody tr th:only-of-type {\n",
       "        vertical-align: middle;\n",
       "    }\n",
       "\n",
       "    .dataframe tbody tr th {\n",
       "        vertical-align: top;\n",
       "    }\n",
       "\n",
       "    .dataframe thead th {\n",
       "        text-align: right;\n",
       "    }\n",
       "</style>\n",
       "<table border=\"1\" class=\"dataframe\">\n",
       "  <thead>\n",
       "    <tr style=\"text-align: right;\">\n",
       "      <th></th>\n",
       "      <th>Decade</th>\n",
       "      <th>Count</th>\n",
       "    </tr>\n",
       "  </thead>\n",
       "  <tbody>\n",
       "    <tr>\n",
       "      <th>0</th>\n",
       "      <td>1850</td>\n",
       "      <td>2</td>\n",
       "    </tr>\n",
       "    <tr>\n",
       "      <th>1</th>\n",
       "      <td>1870</td>\n",
       "      <td>5</td>\n",
       "    </tr>\n",
       "    <tr>\n",
       "      <th>2</th>\n",
       "      <td>1880</td>\n",
       "      <td>7</td>\n",
       "    </tr>\n",
       "    <tr>\n",
       "      <th>3</th>\n",
       "      <td>1890</td>\n",
       "      <td>11</td>\n",
       "    </tr>\n",
       "    <tr>\n",
       "      <th>4</th>\n",
       "      <td>1900</td>\n",
       "      <td>11</td>\n",
       "    </tr>\n",
       "  </tbody>\n",
       "</table>\n",
       "</div>"
      ],
      "text/plain": [
       "   Decade  Count\n",
       "0    1850      2\n",
       "1    1870      5\n",
       "2    1880      7\n",
       "3    1890     11\n",
       "4    1900     11"
      ]
     },
     "execution_count": 21,
     "metadata": {},
     "output_type": "execute_result"
    }
   ],
   "source": [
    "dfccd.rename(columns={'Year':'Decade'},inplace=True)\n",
    "dfccd.head()"
   ]
  },
  {
   "cell_type": "code",
   "execution_count": 22,
   "metadata": {},
   "outputs": [
    {
     "data": {
      "image/png": "[encoded data removed]",
      "text/plain": [
       "<Figure size 504x360 with 1 Axes>"
      ]
     },
     "metadata": {
      "needs_background": "light"
     },
     "output_type": "display_data"
    }
   ],
   "source": [
    "%matplotlib inline \n",
    "decade=dfccd['Decade']\n",
    "countd=dfccd['Count']\n",
    "\n",
    "plt.figure(figsize=(7, 5))\n",
    "plt.title('Foundation of Collectivities in Lisbon',fontsize=19)\n",
    "plt.ylabel('Number of Collectivities Founded', fontsize=15)\n",
    "plt.xlabel('Decade',fontsize=15)\n",
    "plt.xticks(fontsize=13)\n",
    "plt.yticks(fontsize=13)\n",
    "plt.bar(decade,countd, width=2,color='g')\n",
    "plt.savefig('col_fdecade.pdf',bbox_inches='tight')"
   ]
  },
  {
   "cell_type": "markdown",
   "metadata": {},
   "source": [
    "### B. Second Dataset: Parishes"
   ]
  },
  {
   "cell_type": "markdown",
   "metadata": {},
   "source": [
    "In this section, we import a dataframe containing information on the Parishes in Lisbon Municipality, namely the number of Inhabitants and Area of each Parish, and the geographic coordinates of the Parish Council. The aim of this section is three-fold: 1) To prepare a dataset to be used in a different notebook for the Venues; 2) To draw a plot with the number of Inhabitants per Parish; 3) To draw a correlation plot between the number of Collectivities and the number of Inhabitants in each Parish."
   ]
  },
  {
   "cell_type": "code",
   "execution_count": 23,
   "metadata": {},
   "outputs": [
    {
     "data": {
      "text/html": [
       "<div>\n",
       "<style scoped>\n",
       "    .dataframe tbody tr th:only-of-type {\n",
       "        vertical-align: middle;\n",
       "    }\n",
       "\n",
       "    .dataframe tbody tr th {\n",
       "        vertical-align: top;\n",
       "    }\n",
       "\n",
       "    .dataframe thead th {\n",
       "        text-align: right;\n",
       "    }\n",
       "</style>\n",
       "<table border=\"1\" class=\"dataframe\">\n",
       "  <thead>\n",
       "    <tr style=\"text-align: right;\">\n",
       "      <th></th>\n",
       "      <th>Number</th>\n",
       "      <th>Freguesia</th>\n",
       "      <th>Population 2013</th>\n",
       "      <th>Area km2</th>\n",
       "      <th>Lat_JF</th>\n",
       "      <th>Long_JF</th>\n",
       "    </tr>\n",
       "  </thead>\n",
       "  <tbody>\n",
       "    <tr>\n",
       "      <th>0</th>\n",
       "      <td>1</td>\n",
       "      <td>Ajuda</td>\n",
       "      <td>15617</td>\n",
       "      <td>2.88</td>\n",
       "      <td>38° 42' 20.81''</td>\n",
       "      <td>9° 12' 4.77''</td>\n",
       "    </tr>\n",
       "    <tr>\n",
       "      <th>1</th>\n",
       "      <td>2</td>\n",
       "      <td>Alcântra</td>\n",
       "      <td>13943</td>\n",
       "      <td>5.07</td>\n",
       "      <td>38° 42' 17.44''</td>\n",
       "      <td>9° 10' 47.56''</td>\n",
       "    </tr>\n",
       "    <tr>\n",
       "      <th>2</th>\n",
       "      <td>3</td>\n",
       "      <td>Alvalade</td>\n",
       "      <td>31813</td>\n",
       "      <td>5.34</td>\n",
       "      <td>38° 44' 48.89''</td>\n",
       "      <td>9° 8' 25.93''</td>\n",
       "    </tr>\n",
       "    <tr>\n",
       "      <th>3</th>\n",
       "      <td>4</td>\n",
       "      <td>Areeiro</td>\n",
       "      <td>20131</td>\n",
       "      <td>1.74</td>\n",
       "      <td>38° 44' 42.43''</td>\n",
       "      <td>9° 8' 33.55''</td>\n",
       "    </tr>\n",
       "    <tr>\n",
       "      <th>4</th>\n",
       "      <td>5</td>\n",
       "      <td>Arroios</td>\n",
       "      <td>31653</td>\n",
       "      <td>2.13</td>\n",
       "      <td>38° 43' 15.63''</td>\n",
       "      <td>9° 8' 4.77''</td>\n",
       "    </tr>\n",
       "  </tbody>\n",
       "</table>\n",
       "</div>"
      ],
      "text/plain": [
       "   Number  Freguesia   Population 2013   Area km2            Lat_JF  \\\n",
       "0       1      Ajuda             15617       2.88   38° 42' 20.81''   \n",
       "1       2   Alcântra             13943       5.07   38° 42' 17.44''   \n",
       "2       3   Alvalade             31813       5.34   38° 44' 48.89''   \n",
       "3       4    Areeiro             20131       1.74   38° 44' 42.43''   \n",
       "4       5    Arroios             31653       2.13   38° 43' 15.63''   \n",
       "\n",
       "           Long_JF  \n",
       "0    9° 12' 4.77''  \n",
       "1   9° 10' 47.56''  \n",
       "2    9° 8' 25.93''  \n",
       "3    9° 8' 33.55''  \n",
       "4     9° 8' 4.77''  "
      ]
     },
     "execution_count": 23,
     "metadata": {},
     "output_type": "execute_result"
    }
   ],
   "source": [
    "# dfp: dataset parishes\n",
    "dfp=pd.DataFrame()\n",
    "dfp = pd.read_csv('freguesias.csv')\n",
    "dfp.head()"
   ]
  },
  {
   "cell_type": "code",
   "execution_count": 24,
   "metadata": {},
   "outputs": [
    {
     "data": {
      "text/plain": [
       "Index(['Number', ' Freguesia', ' Population 2013', ' Area km2', ' Lat_JF',\n",
       "       ' Long_JF'],\n",
       "      dtype='object')"
      ]
     },
     "execution_count": 24,
     "metadata": {},
     "output_type": "execute_result"
    }
   ],
   "source": [
    "dfp.columns"
   ]
  },
  {
   "cell_type": "code",
   "execution_count": 25,
   "metadata": {},
   "outputs": [
    {
     "data": {
      "text/html": [
       "<div>\n",
       "<style scoped>\n",
       "    .dataframe tbody tr th:only-of-type {\n",
       "        vertical-align: middle;\n",
       "    }\n",
       "\n",
       "    .dataframe tbody tr th {\n",
       "        vertical-align: top;\n",
       "    }\n",
       "\n",
       "    .dataframe thead th {\n",
       "        text-align: right;\n",
       "    }\n",
       "</style>\n",
       "<table border=\"1\" class=\"dataframe\">\n",
       "  <thead>\n",
       "    <tr style=\"text-align: right;\">\n",
       "      <th></th>\n",
       "      <th>Number</th>\n",
       "      <th>Parish</th>\n",
       "      <th>Population 2013</th>\n",
       "      <th>Area km^2</th>\n",
       "      <th>Lat</th>\n",
       "      <th>Long</th>\n",
       "    </tr>\n",
       "  </thead>\n",
       "  <tbody>\n",
       "    <tr>\n",
       "      <th>0</th>\n",
       "      <td>1</td>\n",
       "      <td>Ajuda</td>\n",
       "      <td>15617</td>\n",
       "      <td>2.88</td>\n",
       "      <td>38° 42' 20.81''</td>\n",
       "      <td>9° 12' 4.77''</td>\n",
       "    </tr>\n",
       "    <tr>\n",
       "      <th>1</th>\n",
       "      <td>2</td>\n",
       "      <td>Alcântra</td>\n",
       "      <td>13943</td>\n",
       "      <td>5.07</td>\n",
       "      <td>38° 42' 17.44''</td>\n",
       "      <td>9° 10' 47.56''</td>\n",
       "    </tr>\n",
       "    <tr>\n",
       "      <th>2</th>\n",
       "      <td>3</td>\n",
       "      <td>Alvalade</td>\n",
       "      <td>31813</td>\n",
       "      <td>5.34</td>\n",
       "      <td>38° 44' 48.89''</td>\n",
       "      <td>9° 8' 25.93''</td>\n",
       "    </tr>\n",
       "    <tr>\n",
       "      <th>3</th>\n",
       "      <td>4</td>\n",
       "      <td>Areeiro</td>\n",
       "      <td>20131</td>\n",
       "      <td>1.74</td>\n",
       "      <td>38° 44' 42.43''</td>\n",
       "      <td>9° 8' 33.55''</td>\n",
       "    </tr>\n",
       "    <tr>\n",
       "      <th>4</th>\n",
       "      <td>5</td>\n",
       "      <td>Arroios</td>\n",
       "      <td>31653</td>\n",
       "      <td>2.13</td>\n",
       "      <td>38° 43' 15.63''</td>\n",
       "      <td>9° 8' 4.77''</td>\n",
       "    </tr>\n",
       "  </tbody>\n",
       "</table>\n",
       "</div>"
      ],
      "text/plain": [
       "   Number     Parish  Population 2013  Area km^2               Lat  \\\n",
       "0       1      Ajuda            15617       2.88   38° 42' 20.81''   \n",
       "1       2   Alcântra            13943       5.07   38° 42' 17.44''   \n",
       "2       3   Alvalade            31813       5.34   38° 44' 48.89''   \n",
       "3       4    Areeiro            20131       1.74   38° 44' 42.43''   \n",
       "4       5    Arroios            31653       2.13   38° 43' 15.63''   \n",
       "\n",
       "              Long  \n",
       "0    9° 12' 4.77''  \n",
       "1   9° 10' 47.56''  \n",
       "2    9° 8' 25.93''  \n",
       "3    9° 8' 33.55''  \n",
       "4     9° 8' 4.77''  "
      ]
     },
     "execution_count": 25,
     "metadata": {},
     "output_type": "execute_result"
    }
   ],
   "source": [
    "#dfp.drop(['Number'], axis=1, inplace=True)\n",
    "dfp.rename(columns={' Freguesia':'Parish',' Population 2013':'Population 2013',\\\n",
    "    ' Area km2':'Area km^2',' Lat_JF':'Lat',' Long_JF':'Long'},inplace=True)\n",
    "dfp.head()"
   ]
  },
  {
   "cell_type": "code",
   "execution_count": 26,
   "metadata": {},
   "outputs": [
    {
     "data": {
      "text/html": [
       "<div>\n",
       "<style scoped>\n",
       "    .dataframe tbody tr th:only-of-type {\n",
       "        vertical-align: middle;\n",
       "    }\n",
       "\n",
       "    .dataframe tbody tr th {\n",
       "        vertical-align: top;\n",
       "    }\n",
       "\n",
       "    .dataframe thead th {\n",
       "        text-align: right;\n",
       "    }\n",
       "</style>\n",
       "<table border=\"1\" class=\"dataframe\">\n",
       "  <thead>\n",
       "    <tr style=\"text-align: right;\">\n",
       "      <th></th>\n",
       "      <th>Number</th>\n",
       "      <th>Population 2013</th>\n",
       "      <th>Area km^2</th>\n",
       "    </tr>\n",
       "  </thead>\n",
       "  <tbody>\n",
       "    <tr>\n",
       "      <th>count</th>\n",
       "      <td>24.000000</td>\n",
       "      <td>24.000000</td>\n",
       "      <td>24.000000</td>\n",
       "    </tr>\n",
       "    <tr>\n",
       "      <th>mean</th>\n",
       "      <td>12.500000</td>\n",
       "      <td>23029.166667</td>\n",
       "      <td>4.168333</td>\n",
       "    </tr>\n",
       "    <tr>\n",
       "      <th>std</th>\n",
       "      <td>7.071068</td>\n",
       "      <td>9519.088350</td>\n",
       "      <td>2.400032</td>\n",
       "    </tr>\n",
       "    <tr>\n",
       "      <th>min</th>\n",
       "      <td>1.000000</td>\n",
       "      <td>11836.000000</td>\n",
       "      <td>1.490000</td>\n",
       "    </tr>\n",
       "    <tr>\n",
       "      <th>25%</th>\n",
       "      <td>6.750000</td>\n",
       "      <td>15429.750000</td>\n",
       "      <td>2.392500</td>\n",
       "    </tr>\n",
       "    <tr>\n",
       "      <th>50%</th>\n",
       "      <td>12.500000</td>\n",
       "      <td>20578.000000</td>\n",
       "      <td>3.185000</td>\n",
       "    </tr>\n",
       "    <tr>\n",
       "      <th>75%</th>\n",
       "      <td>18.250000</td>\n",
       "      <td>31693.000000</td>\n",
       "      <td>5.365000</td>\n",
       "    </tr>\n",
       "    <tr>\n",
       "      <th>max</th>\n",
       "      <td>24.000000</td>\n",
       "      <td>45605.000000</td>\n",
       "      <td>10.430000</td>\n",
       "    </tr>\n",
       "  </tbody>\n",
       "</table>\n",
       "</div>"
      ],
      "text/plain": [
       "          Number  Population 2013  Area km^2\n",
       "count  24.000000        24.000000  24.000000\n",
       "mean   12.500000     23029.166667   4.168333\n",
       "std     7.071068      9519.088350   2.400032\n",
       "min     1.000000     11836.000000   1.490000\n",
       "25%     6.750000     15429.750000   2.392500\n",
       "50%    12.500000     20578.000000   3.185000\n",
       "75%    18.250000     31693.000000   5.365000\n",
       "max    24.000000     45605.000000  10.430000"
      ]
     },
     "execution_count": 26,
     "metadata": {},
     "output_type": "execute_result"
    }
   ],
   "source": [
    "dfp.describe()"
   ]
  },
  {
   "cell_type": "code",
   "execution_count": 27,
   "metadata": {},
   "outputs": [
    {
     "data": {
      "text/html": [
       "<div>\n",
       "<style scoped>\n",
       "    .dataframe tbody tr th:only-of-type {\n",
       "        vertical-align: middle;\n",
       "    }\n",
       "\n",
       "    .dataframe tbody tr th {\n",
       "        vertical-align: top;\n",
       "    }\n",
       "\n",
       "    .dataframe thead th {\n",
       "        text-align: right;\n",
       "    }\n",
       "</style>\n",
       "<table border=\"1\" class=\"dataframe\">\n",
       "  <thead>\n",
       "    <tr style=\"text-align: right;\">\n",
       "      <th></th>\n",
       "      <th>Number</th>\n",
       "      <th>Parish</th>\n",
       "      <th>Population 2013</th>\n",
       "      <th>Area km^2</th>\n",
       "      <th>Lat</th>\n",
       "      <th>Long</th>\n",
       "    </tr>\n",
       "  </thead>\n",
       "  <tbody>\n",
       "    <tr>\n",
       "      <th>13</th>\n",
       "      <td>14</td>\n",
       "      <td>Lumiar</td>\n",
       "      <td>45605</td>\n",
       "      <td>6.57</td>\n",
       "      <td>38° 46' 3.79''</td>\n",
       "      <td>9° 9' 36.66''</td>\n",
       "    </tr>\n",
       "    <tr>\n",
       "      <th>14</th>\n",
       "      <td>15</td>\n",
       "      <td>Marvila</td>\n",
       "      <td>37793</td>\n",
       "      <td>7.12</td>\n",
       "      <td>38° 44' 48.74''</td>\n",
       "      <td>9° 6' 37.29''</td>\n",
       "    </tr>\n",
       "    <tr>\n",
       "      <th>8</th>\n",
       "      <td>9</td>\n",
       "      <td>Benfica</td>\n",
       "      <td>36985</td>\n",
       "      <td>8.03</td>\n",
       "      <td>38° 44' 54.14''</td>\n",
       "      <td>9° 11' 58.67''</td>\n",
       "    </tr>\n",
       "    <tr>\n",
       "      <th>16</th>\n",
       "      <td>17</td>\n",
       "      <td>Olivais</td>\n",
       "      <td>33788</td>\n",
       "      <td>8.09</td>\n",
       "      <td>38° 46' 24.92''</td>\n",
       "      <td>9° 7' 1.41''</td>\n",
       "    </tr>\n",
       "    <tr>\n",
       "      <th>22</th>\n",
       "      <td>23</td>\n",
       "      <td>São Domingos de Benfica</td>\n",
       "      <td>33043</td>\n",
       "      <td>4.29</td>\n",
       "      <td>38° 44' 44.89''</td>\n",
       "      <td>9° 11' 23.32''</td>\n",
       "    </tr>\n",
       "  </tbody>\n",
       "</table>\n",
       "</div>"
      ],
      "text/plain": [
       "    Number                    Parish  Population 2013  Area km^2  \\\n",
       "13      14                    Lumiar            45605       6.57   \n",
       "14      15                   Marvila            37793       7.12   \n",
       "8        9                   Benfica            36985       8.03   \n",
       "16      17                   Olivais            33788       8.09   \n",
       "22      23   São Domingos de Benfica            33043       4.29   \n",
       "\n",
       "                Lat            Long  \n",
       "13   38° 46' 3.79''   9° 9' 36.66''  \n",
       "14  38° 44' 48.74''   9° 6' 37.29''  \n",
       "8   38° 44' 54.14''  9° 11' 58.67''  \n",
       "16  38° 46' 24.92''    9° 7' 1.41''  \n",
       "22  38° 44' 44.89''  9° 11' 23.32''  "
      ]
     },
     "execution_count": 27,
     "metadata": {},
     "output_type": "execute_result"
    }
   ],
   "source": [
    "# dfpsp: dataframe parishes sorted by population\n",
    "dfpsp=dfp.sort_values(['Population 2013'],ascending=False)\n",
    "dfpsp.head()"
   ]
  },
  {
   "cell_type": "markdown",
   "metadata": {},
   "source": [
    "Now the geographical coordinates in the above dataframe are given in minutes and seconds, whereas we need then in decimal degree format."
   ]
  },
  {
   "cell_type": "code",
   "execution_count": 28,
   "metadata": {},
   "outputs": [],
   "source": [
    "# first, the coordinate columns are converted to string type\n",
    "lat=dfp['Lat'].astype('str')\n",
    "long=dfp['Long'].astype('str')\n",
    "\n",
    "# then the loop goes through the whole string containing the coordinate information,\n",
    "# where it finds whole sequences of number characters, it converts them to float type\n",
    "# thereafter, the conversion of minutes and seconds to decimal degrees is carried out\n",
    "i=0\n",
    "for row in lat:\n",
    "        deg=float(row[:row.find('°')])\n",
    "        minutes=float(row[(row.find('°')+1):(row.find('\\''))])\n",
    "        seconds=float(row[(row.find('\\'')+1):(row.find('\\'\\''))])\n",
    "        ddeg=deg+minutes/60.+seconds/3600.\n",
    "#        print(i,decimaldeg)\n",
    "        lat.iloc[i]=ddeg\n",
    "        i=i+1\n",
    "        \n",
    "i=0\n",
    "for row in long:\n",
    "    deg=float(row[:row.find('°')])\n",
    "    minutes=float(row[(row.find('°')+1):(row.find('\\''))])\n",
    "    seconds=float(row[(row.find('\\'')+1):(row.find('\\'\\''))])\n",
    "    ddeg=deg+minutes/60.+seconds/3600.\n",
    "    long.iloc[i]=-ddeg\n",
    "    i=i+1"
   ]
  },
  {
   "cell_type": "code",
   "execution_count": 29,
   "metadata": {},
   "outputs": [
    {
     "data": {
      "text/html": [
       "<div>\n",
       "<style scoped>\n",
       "    .dataframe tbody tr th:only-of-type {\n",
       "        vertical-align: middle;\n",
       "    }\n",
       "\n",
       "    .dataframe tbody tr th {\n",
       "        vertical-align: top;\n",
       "    }\n",
       "\n",
       "    .dataframe thead th {\n",
       "        text-align: right;\n",
       "    }\n",
       "</style>\n",
       "<table border=\"1\" class=\"dataframe\">\n",
       "  <thead>\n",
       "    <tr style=\"text-align: right;\">\n",
       "      <th></th>\n",
       "      <th>Number</th>\n",
       "      <th>Parish</th>\n",
       "      <th>Population 2013</th>\n",
       "      <th>Area km^2</th>\n",
       "      <th>Lat</th>\n",
       "      <th>Long</th>\n",
       "      <th>Latitude</th>\n",
       "      <th>Longitude</th>\n",
       "    </tr>\n",
       "  </thead>\n",
       "  <tbody>\n",
       "    <tr>\n",
       "      <th>0</th>\n",
       "      <td>1</td>\n",
       "      <td>Ajuda</td>\n",
       "      <td>15617</td>\n",
       "      <td>2.88</td>\n",
       "      <td>38° 42' 20.81''</td>\n",
       "      <td>9° 12' 4.77''</td>\n",
       "      <td>38.7058</td>\n",
       "      <td>-9.20132</td>\n",
       "    </tr>\n",
       "    <tr>\n",
       "      <th>1</th>\n",
       "      <td>2</td>\n",
       "      <td>Alcântra</td>\n",
       "      <td>13943</td>\n",
       "      <td>5.07</td>\n",
       "      <td>38° 42' 17.44''</td>\n",
       "      <td>9° 10' 47.56''</td>\n",
       "      <td>38.7048</td>\n",
       "      <td>-9.17988</td>\n",
       "    </tr>\n",
       "    <tr>\n",
       "      <th>2</th>\n",
       "      <td>3</td>\n",
       "      <td>Alvalade</td>\n",
       "      <td>31813</td>\n",
       "      <td>5.34</td>\n",
       "      <td>38° 44' 48.89''</td>\n",
       "      <td>9° 8' 25.93''</td>\n",
       "      <td>38.7469</td>\n",
       "      <td>-9.14054</td>\n",
       "    </tr>\n",
       "    <tr>\n",
       "      <th>3</th>\n",
       "      <td>4</td>\n",
       "      <td>Areeiro</td>\n",
       "      <td>20131</td>\n",
       "      <td>1.74</td>\n",
       "      <td>38° 44' 42.43''</td>\n",
       "      <td>9° 8' 33.55''</td>\n",
       "      <td>38.7451</td>\n",
       "      <td>-9.14265</td>\n",
       "    </tr>\n",
       "    <tr>\n",
       "      <th>4</th>\n",
       "      <td>5</td>\n",
       "      <td>Arroios</td>\n",
       "      <td>31653</td>\n",
       "      <td>2.13</td>\n",
       "      <td>38° 43' 15.63''</td>\n",
       "      <td>9° 8' 4.77''</td>\n",
       "      <td>38.721</td>\n",
       "      <td>-9.13466</td>\n",
       "    </tr>\n",
       "  </tbody>\n",
       "</table>\n",
       "</div>"
      ],
      "text/plain": [
       "   Number     Parish  Population 2013  Area km^2               Lat  \\\n",
       "0       1      Ajuda            15617       2.88   38° 42' 20.81''   \n",
       "1       2   Alcântra            13943       5.07   38° 42' 17.44''   \n",
       "2       3   Alvalade            31813       5.34   38° 44' 48.89''   \n",
       "3       4    Areeiro            20131       1.74   38° 44' 42.43''   \n",
       "4       5    Arroios            31653       2.13   38° 43' 15.63''   \n",
       "\n",
       "              Long Latitude Longitude  \n",
       "0    9° 12' 4.77''  38.7058  -9.20132  \n",
       "1   9° 10' 47.56''  38.7048  -9.17988  \n",
       "2    9° 8' 25.93''  38.7469  -9.14054  \n",
       "3    9° 8' 33.55''  38.7451  -9.14265  \n",
       "4     9° 8' 4.77''   38.721  -9.13466  "
      ]
     },
     "execution_count": 29,
     "metadata": {},
     "output_type": "execute_result"
    }
   ],
   "source": [
    "dfp['Latitude']=lat\n",
    "dfp['Longitude']=long\n",
    "dfp.head()"
   ]
  },
  {
   "cell_type": "code",
   "execution_count": 30,
   "metadata": {},
   "outputs": [
    {
     "data": {
      "text/html": [
       "<div>\n",
       "<style scoped>\n",
       "    .dataframe tbody tr th:only-of-type {\n",
       "        vertical-align: middle;\n",
       "    }\n",
       "\n",
       "    .dataframe tbody tr th {\n",
       "        vertical-align: top;\n",
       "    }\n",
       "\n",
       "    .dataframe thead th {\n",
       "        text-align: right;\n",
       "    }\n",
       "</style>\n",
       "<table border=\"1\" class=\"dataframe\">\n",
       "  <thead>\n",
       "    <tr style=\"text-align: right;\">\n",
       "      <th></th>\n",
       "      <th>Number</th>\n",
       "      <th>Parish</th>\n",
       "      <th>Population 2013</th>\n",
       "      <th>Area km^2</th>\n",
       "      <th>Latitude</th>\n",
       "      <th>Longitude</th>\n",
       "    </tr>\n",
       "  </thead>\n",
       "  <tbody>\n",
       "    <tr>\n",
       "      <th>0</th>\n",
       "      <td>1</td>\n",
       "      <td>Ajuda</td>\n",
       "      <td>15617</td>\n",
       "      <td>2.88</td>\n",
       "      <td>38.7058</td>\n",
       "      <td>-9.20132</td>\n",
       "    </tr>\n",
       "    <tr>\n",
       "      <th>1</th>\n",
       "      <td>2</td>\n",
       "      <td>Alcântra</td>\n",
       "      <td>13943</td>\n",
       "      <td>5.07</td>\n",
       "      <td>38.7048</td>\n",
       "      <td>-9.17988</td>\n",
       "    </tr>\n",
       "    <tr>\n",
       "      <th>2</th>\n",
       "      <td>3</td>\n",
       "      <td>Alvalade</td>\n",
       "      <td>31813</td>\n",
       "      <td>5.34</td>\n",
       "      <td>38.7469</td>\n",
       "      <td>-9.14054</td>\n",
       "    </tr>\n",
       "    <tr>\n",
       "      <th>3</th>\n",
       "      <td>4</td>\n",
       "      <td>Areeiro</td>\n",
       "      <td>20131</td>\n",
       "      <td>1.74</td>\n",
       "      <td>38.7451</td>\n",
       "      <td>-9.14265</td>\n",
       "    </tr>\n",
       "    <tr>\n",
       "      <th>4</th>\n",
       "      <td>5</td>\n",
       "      <td>Arroios</td>\n",
       "      <td>31653</td>\n",
       "      <td>2.13</td>\n",
       "      <td>38.721</td>\n",
       "      <td>-9.13466</td>\n",
       "    </tr>\n",
       "  </tbody>\n",
       "</table>\n",
       "</div>"
      ],
      "text/plain": [
       "   Number     Parish  Population 2013  Area km^2 Latitude Longitude\n",
       "0       1      Ajuda            15617       2.88  38.7058  -9.20132\n",
       "1       2   Alcântra            13943       5.07  38.7048  -9.17988\n",
       "2       3   Alvalade            31813       5.34  38.7469  -9.14054\n",
       "3       4    Areeiro            20131       1.74  38.7451  -9.14265\n",
       "4       5    Arroios            31653       2.13   38.721  -9.13466"
      ]
     },
     "execution_count": 30,
     "metadata": {},
     "output_type": "execute_result"
    }
   ],
   "source": [
    "dfp.drop(['Lat','Long'], axis=1, inplace=True)\n",
    "dfp.head()"
   ]
  },
  {
   "cell_type": "markdown",
   "metadata": {},
   "source": [
    "We save the dataframe `dfp` to a new dataset that we can use somewhere else."
   ]
  },
  {
   "cell_type": "code",
   "execution_count": 31,
   "metadata": {},
   "outputs": [],
   "source": [
    "dfp.to_csv('parishcoord.csv')"
   ]
  },
  {
   "cell_type": "markdown",
   "metadata": {},
   "source": [
    "Our next goal is to plot the number of Inhabitants per Parish. Since we are not interested in the coordinates here, we resume to our dataframe `dfpsp` with the parishes sorted by population."
   ]
  },
  {
   "cell_type": "code",
   "execution_count": 32,
   "metadata": {},
   "outputs": [
    {
     "data": {
      "image/png": "[encoded data removed]",
      "text/plain": [
       "<Figure size 648x360 with 1 Axes>"
      ]
     },
     "metadata": {
      "needs_background": "light"
     },
     "output_type": "display_data"
    }
   ],
   "source": [
    "parish=dfpsp['Parish']\n",
    "population=dfpsp['Population 2013']\n",
    "\n",
    "plt.figure(figsize=(9, 5))\n",
    "plt.title('Population per Parish in Lisbon',fontsize=19)\n",
    "plt.ylabel('Population', fontsize=15)\n",
    "plt.xlabel('Parish',fontsize=15)\n",
    "plt.bar(parish,population,width=0.4,color='gray')\n",
    "plt.xticks(rotation = 90,fontsize=13)\n",
    "plt.yticks(fontsize=13)\n",
    "plt.savefig('pop_parish.pdf',bbox_inches='tight')"
   ]
  },
  {
   "cell_type": "markdown",
   "metadata": {},
   "source": [
    "Finally, in order to find out if there is some correlation between the number of Collectivities and the number of Inhabitants per Parish, we start by merging the dataframes `dfcc` and `dfpsp` defined above."
   ]
  },
  {
   "cell_type": "code",
   "execution_count": 33,
   "metadata": {},
   "outputs": [
    {
     "data": {
      "text/html": [
       "<div>\n",
       "<style scoped>\n",
       "    .dataframe tbody tr th:only-of-type {\n",
       "        vertical-align: middle;\n",
       "    }\n",
       "\n",
       "    .dataframe tbody tr th {\n",
       "        vertical-align: top;\n",
       "    }\n",
       "\n",
       "    .dataframe thead th {\n",
       "        text-align: right;\n",
       "    }\n",
       "</style>\n",
       "<table border=\"1\" class=\"dataframe\">\n",
       "  <thead>\n",
       "    <tr style=\"text-align: right;\">\n",
       "      <th></th>\n",
       "      <th>Parish</th>\n",
       "      <th>Count</th>\n",
       "      <th>Number</th>\n",
       "      <th>Population 2013</th>\n",
       "      <th>Area km^2</th>\n",
       "      <th>Lat</th>\n",
       "      <th>Long</th>\n",
       "    </tr>\n",
       "  </thead>\n",
       "  <tbody>\n",
       "    <tr>\n",
       "      <th>0</th>\n",
       "      <td>Santa Maria Maior</td>\n",
       "      <td>21</td>\n",
       "      <td>21</td>\n",
       "      <td>12822</td>\n",
       "      <td>3.01</td>\n",
       "      <td>38° 42' 41.10''</td>\n",
       "      <td>9° 8' 16.83''</td>\n",
       "    </tr>\n",
       "    <tr>\n",
       "      <th>1</th>\n",
       "      <td>Arroios</td>\n",
       "      <td>19</td>\n",
       "      <td>5</td>\n",
       "      <td>31653</td>\n",
       "      <td>2.13</td>\n",
       "      <td>38° 43' 15.63''</td>\n",
       "      <td>9° 8' 4.77''</td>\n",
       "    </tr>\n",
       "    <tr>\n",
       "      <th>2</th>\n",
       "      <td>Marvila</td>\n",
       "      <td>18</td>\n",
       "      <td>15</td>\n",
       "      <td>37793</td>\n",
       "      <td>7.12</td>\n",
       "      <td>38° 44' 48.74''</td>\n",
       "      <td>9° 6' 37.29''</td>\n",
       "    </tr>\n",
       "    <tr>\n",
       "      <th>3</th>\n",
       "      <td>São Vicente</td>\n",
       "      <td>17</td>\n",
       "      <td>24</td>\n",
       "      <td>15339</td>\n",
       "      <td>1.99</td>\n",
       "      <td>38° 43' 11.55''</td>\n",
       "      <td>9° 7' 54.66''</td>\n",
       "    </tr>\n",
       "    <tr>\n",
       "      <th>4</th>\n",
       "      <td>Ajuda</td>\n",
       "      <td>14</td>\n",
       "      <td>1</td>\n",
       "      <td>15617</td>\n",
       "      <td>2.88</td>\n",
       "      <td>38° 42' 20.81''</td>\n",
       "      <td>9° 12' 4.77''</td>\n",
       "    </tr>\n",
       "  </tbody>\n",
       "</table>\n",
       "</div>"
      ],
      "text/plain": [
       "               Parish  Count  Number  Population 2013  Area km^2  \\\n",
       "0   Santa Maria Maior     21      21            12822       3.01   \n",
       "1             Arroios     19       5            31653       2.13   \n",
       "2             Marvila     18      15            37793       7.12   \n",
       "3         São Vicente     17      24            15339       1.99   \n",
       "4               Ajuda     14       1            15617       2.88   \n",
       "\n",
       "                Lat            Long  \n",
       "0   38° 42' 41.10''   9° 8' 16.83''  \n",
       "1   38° 43' 15.63''    9° 8' 4.77''  \n",
       "2   38° 44' 48.74''   9° 6' 37.29''  \n",
       "3   38° 43' 11.55''   9° 7' 54.66''  \n",
       "4   38° 42' 20.81''   9° 12' 4.77''  "
      ]
     },
     "execution_count": 33,
     "metadata": {},
     "output_type": "execute_result"
    }
   ],
   "source": [
    "# dfm: dataframe merging\n",
    "dfm=pd.merge(left=dfcc, right=dfpsp, left_on='Parish', right_on='Parish')\n",
    "dfm.head()"
   ]
  },
  {
   "cell_type": "code",
   "execution_count": 34,
   "metadata": {},
   "outputs": [
    {
     "data": {
      "text/html": [
       "<div>\n",
       "<style scoped>\n",
       "    .dataframe tbody tr th:only-of-type {\n",
       "        vertical-align: middle;\n",
       "    }\n",
       "\n",
       "    .dataframe tbody tr th {\n",
       "        vertical-align: top;\n",
       "    }\n",
       "\n",
       "    .dataframe thead th {\n",
       "        text-align: right;\n",
       "    }\n",
       "</style>\n",
       "<table border=\"1\" class=\"dataframe\">\n",
       "  <thead>\n",
       "    <tr style=\"text-align: right;\">\n",
       "      <th></th>\n",
       "      <th>Parish</th>\n",
       "      <th>Count</th>\n",
       "      <th>Number</th>\n",
       "      <th>Population 2013</th>\n",
       "      <th>Area km^2</th>\n",
       "      <th>Lat</th>\n",
       "      <th>Long</th>\n",
       "      <th>Pop Density</th>\n",
       "    </tr>\n",
       "  </thead>\n",
       "  <tbody>\n",
       "    <tr>\n",
       "      <th>0</th>\n",
       "      <td>Santa Maria Maior</td>\n",
       "      <td>21</td>\n",
       "      <td>21</td>\n",
       "      <td>12822</td>\n",
       "      <td>3.01</td>\n",
       "      <td>38° 42' 41.10''</td>\n",
       "      <td>9° 8' 16.83''</td>\n",
       "      <td>4259.800664</td>\n",
       "    </tr>\n",
       "    <tr>\n",
       "      <th>1</th>\n",
       "      <td>Arroios</td>\n",
       "      <td>19</td>\n",
       "      <td>5</td>\n",
       "      <td>31653</td>\n",
       "      <td>2.13</td>\n",
       "      <td>38° 43' 15.63''</td>\n",
       "      <td>9° 8' 4.77''</td>\n",
       "      <td>14860.563380</td>\n",
       "    </tr>\n",
       "    <tr>\n",
       "      <th>2</th>\n",
       "      <td>Marvila</td>\n",
       "      <td>18</td>\n",
       "      <td>15</td>\n",
       "      <td>37793</td>\n",
       "      <td>7.12</td>\n",
       "      <td>38° 44' 48.74''</td>\n",
       "      <td>9° 6' 37.29''</td>\n",
       "      <td>5308.005618</td>\n",
       "    </tr>\n",
       "    <tr>\n",
       "      <th>3</th>\n",
       "      <td>São Vicente</td>\n",
       "      <td>17</td>\n",
       "      <td>24</td>\n",
       "      <td>15339</td>\n",
       "      <td>1.99</td>\n",
       "      <td>38° 43' 11.55''</td>\n",
       "      <td>9° 7' 54.66''</td>\n",
       "      <td>7708.040201</td>\n",
       "    </tr>\n",
       "    <tr>\n",
       "      <th>4</th>\n",
       "      <td>Ajuda</td>\n",
       "      <td>14</td>\n",
       "      <td>1</td>\n",
       "      <td>15617</td>\n",
       "      <td>2.88</td>\n",
       "      <td>38° 42' 20.81''</td>\n",
       "      <td>9° 12' 4.77''</td>\n",
       "      <td>5422.569444</td>\n",
       "    </tr>\n",
       "  </tbody>\n",
       "</table>\n",
       "</div>"
      ],
      "text/plain": [
       "               Parish  Count  Number  Population 2013  Area km^2  \\\n",
       "0   Santa Maria Maior     21      21            12822       3.01   \n",
       "1             Arroios     19       5            31653       2.13   \n",
       "2             Marvila     18      15            37793       7.12   \n",
       "3         São Vicente     17      24            15339       1.99   \n",
       "4               Ajuda     14       1            15617       2.88   \n",
       "\n",
       "                Lat            Long   Pop Density  \n",
       "0   38° 42' 41.10''   9° 8' 16.83''   4259.800664  \n",
       "1   38° 43' 15.63''    9° 8' 4.77''  14860.563380  \n",
       "2   38° 44' 48.74''   9° 6' 37.29''   5308.005618  \n",
       "3   38° 43' 11.55''   9° 7' 54.66''   7708.040201  \n",
       "4   38° 42' 20.81''   9° 12' 4.77''   5422.569444  "
      ]
     },
     "execution_count": 34,
     "metadata": {},
     "output_type": "execute_result"
    }
   ],
   "source": [
    "dfm['Pop Density']=dfm['Population 2013']/dfm['Area km^2']\n",
    "dfm.head()"
   ]
  },
  {
   "cell_type": "code",
   "execution_count": 35,
   "metadata": {},
   "outputs": [],
   "source": [
    "import seaborn as sns"
   ]
  },
  {
   "cell_type": "code",
   "execution_count": 36,
   "metadata": {},
   "outputs": [
    {
     "data": {
      "image/png": "[encoded data removed]",
      "text/plain": [
       "<Figure size 504x360 with 1 Axes>"
      ]
     },
     "metadata": {},
     "output_type": "display_data"
    }
   ],
   "source": [
    "sns.set(rc={'figure.figsize':(7,5)})\n",
    "#sns.regplot(x='Population 2013',y='Count',data=dfm)\n",
    "parish=dfm['Population 2013']\n",
    "population=dfm['Count']\n",
    "plt.scatter(parish,population,color='r')\n",
    "plt.title('Collectivities vs Population per Parish',fontsize=19)\n",
    "plt.xlabel('Population', fontsize=15)\n",
    "plt.ylabel('Collectivities',fontsize=15)\n",
    "plt.xticks(fontsize=13)\n",
    "plt.yticks(fontsize=13)\n",
    "plt.savefig('corr_pop_coll.pdf',bbox_inches='tight')"
   ]
  },
  {
   "cell_type": "markdown",
   "metadata": {},
   "source": [
    "Finally, we compute the Pearson Correlation between the two variables:"
   ]
  },
  {
   "cell_type": "code",
   "execution_count": 37,
   "metadata": {},
   "outputs": [],
   "source": [
    "from scipy import stats"
   ]
  },
  {
   "cell_type": "code",
   "execution_count": 38,
   "metadata": {},
   "outputs": [
    {
     "name": "stdout",
     "output_type": "stream",
     "text": [
      "Pearson Coefficient: -0.16056574488629438\n",
      "Pearson p-value: 0.45355607729615793\n"
     ]
    }
   ],
   "source": [
    "pearson_coef,p_value=stats.pearsonr(dfm['Population 2013'],dfm['Count'])\n",
    "print('Pearson Coefficient:',pearson_coef)\n",
    "print('Pearson p-value:',p_value)"
   ]
  },
  {
   "cell_type": "markdown",
   "metadata": {},
   "source": [
    "### C. Lisbon Venues with Foursquare and Clustering"
   ]
  },
  {
   "cell_type": "markdown",
   "metadata": {},
   "source": [
    "Due to its complexity, this section is treated in a different notebook."
   ]
  },
  {
   "cell_type": "markdown",
   "metadata": {},
   "source": [
    "### D. Venues, Collectivities, and Correlations"
   ]
  },
  {
   "cell_type": "markdown",
   "metadata": {},
   "source": [
    "In this section, we study dataframes containing information on Venues per Parish, in Lisbon Municipality, found with Foursquare API. We import two dataframes: 1) Venues within a variable radius which is the radius of each parish as if its area was circular and the Parish Council was at its center; 2) Venues within a radius of 500 m from the corresponding Parish Council. The results will be translated in the following plots: 1 - venues per parish; 2 - venues vs collectivities; 3 - venues vs population. This results are repeated for situations 1) and 2), and Pearson Correlations are computed.  \n",
    "\n",
    "<!--The average radius of each Parish was calculated to be approximately 1150 m. However, there are Parishes where the corresponding Parish Councils are closer than this radius, and others where the nearby Parish Councils are further than twice this radius. Then when we consider a smaller radius, e.g. 500 m, we may be excluding important venues in the larger Parishes, whereas when we consider a radius of about the average radius, e.g. 1000 m, we will find event duplications in the smaller Parishes. In order to analyze this issue, we consider the two cases.-->"
   ]
  },
  {
   "cell_type": "markdown",
   "metadata": {},
   "source": [
    "First, we study the Venues within a variable radius from every Parish Council."
   ]
  },
  {
   "cell_type": "code",
   "execution_count": 39,
   "metadata": {},
   "outputs": [
    {
     "data": {
      "text/html": [
       "<div>\n",
       "<style scoped>\n",
       "    .dataframe tbody tr th:only-of-type {\n",
       "        vertical-align: middle;\n",
       "    }\n",
       "\n",
       "    .dataframe tbody tr th {\n",
       "        vertical-align: top;\n",
       "    }\n",
       "\n",
       "    .dataframe thead th {\n",
       "        text-align: right;\n",
       "    }\n",
       "</style>\n",
       "<table border=\"1\" class=\"dataframe\">\n",
       "  <thead>\n",
       "    <tr style=\"text-align: right;\">\n",
       "      <th></th>\n",
       "      <th>Unnamed: 0</th>\n",
       "      <th>Parish</th>\n",
       "      <th>Parish Latitude</th>\n",
       "      <th>Parish Longitude</th>\n",
       "      <th>Venue</th>\n",
       "      <th>Venue Latitude</th>\n",
       "      <th>Venue Longitude</th>\n",
       "      <th>Venue Category</th>\n",
       "    </tr>\n",
       "  </thead>\n",
       "  <tbody>\n",
       "    <tr>\n",
       "      <th>0</th>\n",
       "      <td>0</td>\n",
       "      <td>Ajuda</td>\n",
       "      <td>38.705781</td>\n",
       "      <td>-9.201325</td>\n",
       "      <td>Restaurante Andorinhas</td>\n",
       "      <td>38.704911</td>\n",
       "      <td>-9.199349</td>\n",
       "      <td>Restaurant</td>\n",
       "    </tr>\n",
       "    <tr>\n",
       "      <th>1</th>\n",
       "      <td>1</td>\n",
       "      <td>Ajuda</td>\n",
       "      <td>38.705781</td>\n",
       "      <td>-9.201325</td>\n",
       "      <td>Palácio Nacional da Ajuda</td>\n",
       "      <td>38.707653</td>\n",
       "      <td>-9.197758</td>\n",
       "      <td>Historic Site</td>\n",
       "    </tr>\n",
       "    <tr>\n",
       "      <th>2</th>\n",
       "      <td>2</td>\n",
       "      <td>Ajuda</td>\n",
       "      <td>38.705781</td>\n",
       "      <td>-9.201325</td>\n",
       "      <td>Jardim Botânico da Ajuda</td>\n",
       "      <td>38.706430</td>\n",
       "      <td>-9.201222</td>\n",
       "      <td>Botanical Garden</td>\n",
       "    </tr>\n",
       "    <tr>\n",
       "      <th>3</th>\n",
       "      <td>3</td>\n",
       "      <td>Ajuda</td>\n",
       "      <td>38.705781</td>\n",
       "      <td>-9.201325</td>\n",
       "      <td>Churrasqueira do Marquês</td>\n",
       "      <td>38.703996</td>\n",
       "      <td>-9.199402</td>\n",
       "      <td>BBQ Joint</td>\n",
       "    </tr>\n",
       "    <tr>\n",
       "      <th>4</th>\n",
       "      <td>4</td>\n",
       "      <td>Ajuda</td>\n",
       "      <td>38.705781</td>\n",
       "      <td>-9.201325</td>\n",
       "      <td>Parque Recreativo dos Moinhos de Santana</td>\n",
       "      <td>38.705849</td>\n",
       "      <td>-9.205103</td>\n",
       "      <td>Park</td>\n",
       "    </tr>\n",
       "  </tbody>\n",
       "</table>\n",
       "</div>"
      ],
      "text/plain": [
       "   Unnamed: 0  Parish  Parish Latitude  Parish Longitude  \\\n",
       "0           0   Ajuda        38.705781         -9.201325   \n",
       "1           1   Ajuda        38.705781         -9.201325   \n",
       "2           2   Ajuda        38.705781         -9.201325   \n",
       "3           3   Ajuda        38.705781         -9.201325   \n",
       "4           4   Ajuda        38.705781         -9.201325   \n",
       "\n",
       "                                      Venue  Venue Latitude  Venue Longitude  \\\n",
       "0                    Restaurante Andorinhas       38.704911        -9.199349   \n",
       "1                 Palácio Nacional da Ajuda       38.707653        -9.197758   \n",
       "2                  Jardim Botânico da Ajuda       38.706430        -9.201222   \n",
       "3                  Churrasqueira do Marquês       38.703996        -9.199402   \n",
       "4  Parque Recreativo dos Moinhos de Santana       38.705849        -9.205103   \n",
       "\n",
       "     Venue Category  \n",
       "0        Restaurant  \n",
       "1     Historic Site  \n",
       "2  Botanical Garden  \n",
       "3         BBQ Joint  \n",
       "4              Park  "
      ]
     },
     "execution_count": 39,
     "metadata": {},
     "output_type": "execute_result"
    }
   ],
   "source": [
    "# dfvs: dataframe venues small radius\n",
    "dfvs=pd.read_csv('lisbonvenuesvarr.csv')\n",
    "dfvs.head()"
   ]
  },
  {
   "cell_type": "code",
   "execution_count": 40,
   "metadata": {},
   "outputs": [
    {
     "data": {
      "text/html": [
       "<div>\n",
       "<style scoped>\n",
       "    .dataframe tbody tr th:only-of-type {\n",
       "        vertical-align: middle;\n",
       "    }\n",
       "\n",
       "    .dataframe tbody tr th {\n",
       "        vertical-align: top;\n",
       "    }\n",
       "\n",
       "    .dataframe thead th {\n",
       "        text-align: right;\n",
       "    }\n",
       "</style>\n",
       "<table border=\"1\" class=\"dataframe\">\n",
       "  <thead>\n",
       "    <tr style=\"text-align: right;\">\n",
       "      <th></th>\n",
       "      <th>Venue</th>\n",
       "    </tr>\n",
       "    <tr>\n",
       "      <th>Parish</th>\n",
       "      <th></th>\n",
       "    </tr>\n",
       "  </thead>\n",
       "  <tbody>\n",
       "    <tr>\n",
       "      <th>Ajuda</th>\n",
       "      <td>49</td>\n",
       "    </tr>\n",
       "    <tr>\n",
       "      <th>Alcântra</th>\n",
       "      <td>70</td>\n",
       "    </tr>\n",
       "    <tr>\n",
       "      <th>Alvalade</th>\n",
       "      <td>100</td>\n",
       "    </tr>\n",
       "    <tr>\n",
       "      <th>Areeiro</th>\n",
       "      <td>97</td>\n",
       "    </tr>\n",
       "    <tr>\n",
       "      <th>Arroios</th>\n",
       "      <td>100</td>\n",
       "    </tr>\n",
       "  </tbody>\n",
       "</table>\n",
       "</div>"
      ],
      "text/plain": [
       "           Venue\n",
       "Parish          \n",
       " Ajuda        49\n",
       " Alcântra     70\n",
       " Alvalade    100\n",
       " Areeiro      97\n",
       " Arroios     100"
      ]
     },
     "execution_count": 40,
     "metadata": {},
     "output_type": "execute_result"
    }
   ],
   "source": [
    "# dfvsc: dataframe venues small radius counts\n",
    "dfvsc=dfvs.drop(['Unnamed: 0','Parish Latitude','Parish Longitude','Venue Latitude','Venue Longitude',\\\n",
    "                    'Venue Category'],axis=1,inplace=False).groupby('Parish').count()\n",
    "dfvsc.head()"
   ]
  },
  {
   "cell_type": "code",
   "execution_count": 41,
   "metadata": {},
   "outputs": [
    {
     "data": {
      "text/plain": [
       "Index(['Venue'], dtype='object')"
      ]
     },
     "execution_count": 41,
     "metadata": {},
     "output_type": "execute_result"
    }
   ],
   "source": [
    "dfvsc.columns"
   ]
  },
  {
   "cell_type": "code",
   "execution_count": 42,
   "metadata": {},
   "outputs": [
    {
     "data": {
      "text/html": [
       "<div>\n",
       "<style scoped>\n",
       "    .dataframe tbody tr th:only-of-type {\n",
       "        vertical-align: middle;\n",
       "    }\n",
       "\n",
       "    .dataframe tbody tr th {\n",
       "        vertical-align: top;\n",
       "    }\n",
       "\n",
       "    .dataframe thead th {\n",
       "        text-align: right;\n",
       "    }\n",
       "</style>\n",
       "<table border=\"1\" class=\"dataframe\">\n",
       "  <thead>\n",
       "    <tr style=\"text-align: right;\">\n",
       "      <th></th>\n",
       "      <th>Parish</th>\n",
       "      <th>Venue</th>\n",
       "    </tr>\n",
       "  </thead>\n",
       "  <tbody>\n",
       "    <tr>\n",
       "      <th>0</th>\n",
       "      <td>Ajuda</td>\n",
       "      <td>49</td>\n",
       "    </tr>\n",
       "    <tr>\n",
       "      <th>1</th>\n",
       "      <td>Alcântra</td>\n",
       "      <td>70</td>\n",
       "    </tr>\n",
       "    <tr>\n",
       "      <th>2</th>\n",
       "      <td>Alvalade</td>\n",
       "      <td>100</td>\n",
       "    </tr>\n",
       "    <tr>\n",
       "      <th>3</th>\n",
       "      <td>Areeiro</td>\n",
       "      <td>97</td>\n",
       "    </tr>\n",
       "    <tr>\n",
       "      <th>4</th>\n",
       "      <td>Arroios</td>\n",
       "      <td>100</td>\n",
       "    </tr>\n",
       "  </tbody>\n",
       "</table>\n",
       "</div>"
      ],
      "text/plain": [
       "      Parish  Venue\n",
       "0      Ajuda     49\n",
       "1   Alcântra     70\n",
       "2   Alvalade    100\n",
       "3    Areeiro     97\n",
       "4    Arroios    100"
      ]
     },
     "execution_count": 42,
     "metadata": {},
     "output_type": "execute_result"
    }
   ],
   "source": [
    "dfvsc.reset_index(drop=False,inplace=True)\n",
    "#dfvc.rename(columns={'index':'Parish','Parish':'Venues'},inplace=True)\n",
    "dfvsc.head()"
   ]
  },
  {
   "cell_type": "markdown",
   "metadata": {},
   "source": [
    "Now we merge the dataframe `dfvsc`with the dataframe `dfm` defined above."
   ]
  },
  {
   "cell_type": "code",
   "execution_count": 43,
   "metadata": {},
   "outputs": [
    {
     "data": {
      "text/html": [
       "<div>\n",
       "<style scoped>\n",
       "    .dataframe tbody tr th:only-of-type {\n",
       "        vertical-align: middle;\n",
       "    }\n",
       "\n",
       "    .dataframe tbody tr th {\n",
       "        vertical-align: top;\n",
       "    }\n",
       "\n",
       "    .dataframe thead th {\n",
       "        text-align: right;\n",
       "    }\n",
       "</style>\n",
       "<table border=\"1\" class=\"dataframe\">\n",
       "  <thead>\n",
       "    <tr style=\"text-align: right;\">\n",
       "      <th></th>\n",
       "      <th>Parish</th>\n",
       "      <th>Venue</th>\n",
       "      <th>Count</th>\n",
       "      <th>Number</th>\n",
       "      <th>Population 2013</th>\n",
       "      <th>Area km^2</th>\n",
       "      <th>Lat</th>\n",
       "      <th>Long</th>\n",
       "      <th>Pop Density</th>\n",
       "    </tr>\n",
       "  </thead>\n",
       "  <tbody>\n",
       "    <tr>\n",
       "      <th>12</th>\n",
       "      <td>Estrela</td>\n",
       "      <td>100</td>\n",
       "      <td>13</td>\n",
       "      <td>13</td>\n",
       "      <td>20128</td>\n",
       "      <td>4.60</td>\n",
       "      <td>38° 42' 39.30''</td>\n",
       "      <td>9° 9' 35.58''</td>\n",
       "      <td>4375.652174</td>\n",
       "    </tr>\n",
       "    <tr>\n",
       "      <th>15</th>\n",
       "      <td>Misericórdia</td>\n",
       "      <td>100</td>\n",
       "      <td>11</td>\n",
       "      <td>16</td>\n",
       "      <td>13044</td>\n",
       "      <td>2.19</td>\n",
       "      <td>38° 42' 40.12''</td>\n",
       "      <td>9° 9' 4.85''</td>\n",
       "      <td>5956.164384</td>\n",
       "    </tr>\n",
       "    <tr>\n",
       "      <th>2</th>\n",
       "      <td>Alvalade</td>\n",
       "      <td>100</td>\n",
       "      <td>11</td>\n",
       "      <td>3</td>\n",
       "      <td>31813</td>\n",
       "      <td>5.34</td>\n",
       "      <td>38° 44' 48.89''</td>\n",
       "      <td>9° 8' 25.93''</td>\n",
       "      <td>5957.490637</td>\n",
       "    </tr>\n",
       "    <tr>\n",
       "      <th>4</th>\n",
       "      <td>Arroios</td>\n",
       "      <td>100</td>\n",
       "      <td>19</td>\n",
       "      <td>5</td>\n",
       "      <td>31653</td>\n",
       "      <td>2.13</td>\n",
       "      <td>38° 43' 15.63''</td>\n",
       "      <td>9° 8' 4.77''</td>\n",
       "      <td>14860.563380</td>\n",
       "    </tr>\n",
       "    <tr>\n",
       "      <th>5</th>\n",
       "      <td>Avenidas Novas</td>\n",
       "      <td>100</td>\n",
       "      <td>8</td>\n",
       "      <td>6</td>\n",
       "      <td>21625</td>\n",
       "      <td>2.99</td>\n",
       "      <td>38° 44' 27.93''</td>\n",
       "      <td>9° 8' 57.62''</td>\n",
       "      <td>7232.441472</td>\n",
       "    </tr>\n",
       "  </tbody>\n",
       "</table>\n",
       "</div>"
      ],
      "text/plain": [
       "             Parish  Venue  Count  Number  Population 2013  Area km^2  \\\n",
       "12          Estrela    100     13      13            20128       4.60   \n",
       "15     Misericórdia    100     11      16            13044       2.19   \n",
       "2          Alvalade    100     11       3            31813       5.34   \n",
       "4           Arroios    100     19       5            31653       2.13   \n",
       "5    Avenidas Novas    100      8       6            21625       2.99   \n",
       "\n",
       "                 Lat            Long   Pop Density  \n",
       "12   38° 42' 39.30''   9° 9' 35.58''   4375.652174  \n",
       "15   38° 42' 40.12''    9° 9' 4.85''   5956.164384  \n",
       "2    38° 44' 48.89''   9° 8' 25.93''   5957.490637  \n",
       "4    38° 43' 15.63''    9° 8' 4.77''  14860.563380  \n",
       "5    38° 44' 27.93''   9° 8' 57.62''   7232.441472  "
      ]
     },
     "execution_count": 43,
     "metadata": {},
     "output_type": "execute_result"
    }
   ],
   "source": [
    "# dfm2: dataframe merging 2\n",
    "dfm2=pd.merge(left=dfvsc, right=dfm, left_on='Parish', right_on='Parish')\n",
    "dfm2.sort_values(['Venue'], ascending = False,inplace=True)\n",
    "dfm2.head()"
   ]
  },
  {
   "cell_type": "code",
   "execution_count": 44,
   "metadata": {},
   "outputs": [
    {
     "data": {
      "image/png": "[encoded data removed]",
      "text/plain": [
       "<Figure size 648x360 with 1 Axes>"
      ]
     },
     "metadata": {
      "needs_background": "light"
     },
     "output_type": "display_data"
    }
   ],
   "source": [
    "parish=dfm2['Parish']\n",
    "venues=dfm2['Venue']\n",
    "\n",
    "sns.reset_orig()\n",
    "plt.figure(figsize=(9, 5))\n",
    "plt.title('Venues per Parish in Lisbon',fontsize=19)\n",
    "plt.ylabel('Venues', fontsize=15)\n",
    "plt.xlabel('Parish',fontsize=15)\n",
    "plt.bar(parish,venues,width=0.4,color='y')\n",
    "plt.xticks(rotation = 90,fontsize=13)\n",
    "plt.yticks(fontsize=13)\n",
    "plt.savefig('venues_parish.pdf',bbox_inches='tight')"
   ]
  },
  {
   "cell_type": "markdown",
   "metadata": {},
   "source": [
    "We also draw a correlation plot between the number of Venues and the number of Collectivities per Parish:"
   ]
  },
  {
   "cell_type": "code",
   "execution_count": 45,
   "metadata": {},
   "outputs": [
    {
     "data": {
      "image/png": "[encoded data removed]",
      "text/plain": [
       "<Figure size 504x360 with 1 Axes>"
      ]
     },
     "metadata": {},
     "output_type": "display_data"
    }
   ],
   "source": [
    "sns.set(rc={'figure.figsize':(7,5)})\n",
    "\n",
    "collec=dfm2['Count']\n",
    "venues=dfm2['Venue']\n",
    "plt.scatter(collec,venues,color='r')\n",
    "plt.title('Venues vs Collectivities per Parish',fontsize=19)\n",
    "plt.xlabel('Collectivities', fontsize=15)\n",
    "plt.ylabel('Venues',fontsize=15)\n",
    "plt.xticks(fontsize=13)\n",
    "plt.yticks(fontsize=13)\n",
    "plt.savefig('venues_coll.pdf',bbox_inches='tight')"
   ]
  },
  {
   "cell_type": "code",
   "execution_count": 46,
   "metadata": {},
   "outputs": [
    {
     "name": "stdout",
     "output_type": "stream",
     "text": [
      "Pearson Coefficient: 0.0668791108011833\n",
      "Pearson p-value: 0.7561833805675705\n"
     ]
    }
   ],
   "source": [
    "pearson_coef,p_value=stats.pearsonr(dfm2['Count'],dfm2['Venue'])\n",
    "print('Pearson Coefficient:',pearson_coef)\n",
    "print('Pearson p-value:',p_value)"
   ]
  },
  {
   "cell_type": "markdown",
   "metadata": {},
   "source": [
    "And finally a correlation plot between the Venues and the Population in each Parish:"
   ]
  },
  {
   "cell_type": "code",
   "execution_count": 47,
   "metadata": {},
   "outputs": [
    {
     "data": {
      "image/png": "[encoded data removed]",
      "text/plain": [
       "<Figure size 504x360 with 1 Axes>"
      ]
     },
     "metadata": {},
     "output_type": "display_data"
    }
   ],
   "source": [
    "sns.set(rc={'figure.figsize':(7,5)})\n",
    "\n",
    "pop=dfm2['Population 2013']\n",
    "venues=dfm2['Venue']\n",
    "plt.scatter(pop,venues,color='r')\n",
    "plt.title('Venues vs Population per Parish',fontsize=19)\n",
    "plt.xlabel('Population', fontsize=15)\n",
    "plt.ylabel('Venues',fontsize=15)\n",
    "plt.xticks(fontsize=13)\n",
    "plt.yticks(fontsize=13)\n",
    "plt.savefig('venues_pop.pdf')"
   ]
  },
  {
   "cell_type": "code",
   "execution_count": 48,
   "metadata": {},
   "outputs": [
    {
     "name": "stdout",
     "output_type": "stream",
     "text": [
      "Pearson Coefficient: 0.1410972064031369\n",
      "Pearson p-value: 0.5107731892610132\n"
     ]
    }
   ],
   "source": [
    "pearson_coef,p_value=stats.pearsonr(dfm2['Population 2013'],dfm2['Venue'])\n",
    "print('Pearson Coefficient:',pearson_coef)\n",
    "print('Pearson p-value:',p_value)"
   ]
  },
  {
   "cell_type": "markdown",
   "metadata": {},
   "source": [
    "We repeat the procedure for a radius of 500 from every Parish Council. The motivation for this step is related to the fact that Foursquare API only allows for the extraction of 100 venues within a defined radius. As we observe in the plot *Venues per Parish in Lisbon* above, this value is saturated for many parishes, and therefore we do not have an absolute counting of the number of venues in each parish. By defining a smaller radius, and assuming that parish councils are located at the center of life of the corresponding parish, the resulting number of venues may be regarded as a density.  "
   ]
  },
  {
   "cell_type": "code",
   "execution_count": 49,
   "metadata": {},
   "outputs": [
    {
     "data": {
      "text/html": [
       "<div>\n",
       "<style scoped>\n",
       "    .dataframe tbody tr th:only-of-type {\n",
       "        vertical-align: middle;\n",
       "    }\n",
       "\n",
       "    .dataframe tbody tr th {\n",
       "        vertical-align: top;\n",
       "    }\n",
       "\n",
       "    .dataframe thead th {\n",
       "        text-align: right;\n",
       "    }\n",
       "</style>\n",
       "<table border=\"1\" class=\"dataframe\">\n",
       "  <thead>\n",
       "    <tr style=\"text-align: right;\">\n",
       "      <th></th>\n",
       "      <th>Parish</th>\n",
       "      <th>Venue</th>\n",
       "      <th>Count</th>\n",
       "      <th>Number</th>\n",
       "      <th>Population 2013</th>\n",
       "      <th>Area km^2</th>\n",
       "      <th>Lat</th>\n",
       "      <th>Long</th>\n",
       "      <th>Pop Density</th>\n",
       "    </tr>\n",
       "  </thead>\n",
       "  <tbody>\n",
       "    <tr>\n",
       "      <th>21</th>\n",
       "      <td>Santo António</td>\n",
       "      <td>100</td>\n",
       "      <td>12</td>\n",
       "      <td>22</td>\n",
       "      <td>11836</td>\n",
       "      <td>1.49</td>\n",
       "      <td>38° 43' 19.15''</td>\n",
       "      <td>9° 9' 12.39''</td>\n",
       "      <td>7943.624161</td>\n",
       "    </tr>\n",
       "    <tr>\n",
       "      <th>3</th>\n",
       "      <td>Areeiro</td>\n",
       "      <td>100</td>\n",
       "      <td>12</td>\n",
       "      <td>4</td>\n",
       "      <td>20131</td>\n",
       "      <td>1.74</td>\n",
       "      <td>38° 44' 42.43''</td>\n",
       "      <td>9° 8' 33.55''</td>\n",
       "      <td>11569.540230</td>\n",
       "    </tr>\n",
       "    <tr>\n",
       "      <th>20</th>\n",
       "      <td>Santa Maria Maior</td>\n",
       "      <td>100</td>\n",
       "      <td>21</td>\n",
       "      <td>21</td>\n",
       "      <td>12822</td>\n",
       "      <td>3.01</td>\n",
       "      <td>38° 42' 41.10''</td>\n",
       "      <td>9° 8' 16.83''</td>\n",
       "      <td>4259.800664</td>\n",
       "    </tr>\n",
       "    <tr>\n",
       "      <th>4</th>\n",
       "      <td>Arroios</td>\n",
       "      <td>85</td>\n",
       "      <td>19</td>\n",
       "      <td>5</td>\n",
       "      <td>31653</td>\n",
       "      <td>2.13</td>\n",
       "      <td>38° 43' 15.63''</td>\n",
       "      <td>9° 8' 4.77''</td>\n",
       "      <td>14860.563380</td>\n",
       "    </tr>\n",
       "    <tr>\n",
       "      <th>15</th>\n",
       "      <td>Misericórdia</td>\n",
       "      <td>72</td>\n",
       "      <td>11</td>\n",
       "      <td>16</td>\n",
       "      <td>13044</td>\n",
       "      <td>2.19</td>\n",
       "      <td>38° 42' 40.12''</td>\n",
       "      <td>9° 9' 4.85''</td>\n",
       "      <td>5956.164384</td>\n",
       "    </tr>\n",
       "    <tr>\n",
       "      <th>1</th>\n",
       "      <td>Alcântra</td>\n",
       "      <td>66</td>\n",
       "      <td>13</td>\n",
       "      <td>2</td>\n",
       "      <td>13943</td>\n",
       "      <td>5.07</td>\n",
       "      <td>38° 42' 17.44''</td>\n",
       "      <td>9° 10' 47.56''</td>\n",
       "      <td>2750.098619</td>\n",
       "    </tr>\n",
       "    <tr>\n",
       "      <th>7</th>\n",
       "      <td>Belém</td>\n",
       "      <td>65</td>\n",
       "      <td>11</td>\n",
       "      <td>8</td>\n",
       "      <td>16528</td>\n",
       "      <td>10.43</td>\n",
       "      <td>38°41' 53.47''</td>\n",
       "      <td>9° 12' 24.34''</td>\n",
       "      <td>1584.659636</td>\n",
       "    </tr>\n",
       "    <tr>\n",
       "      <th>23</th>\n",
       "      <td>São Vicente</td>\n",
       "      <td>62</td>\n",
       "      <td>17</td>\n",
       "      <td>24</td>\n",
       "      <td>15339</td>\n",
       "      <td>1.99</td>\n",
       "      <td>38° 43' 11.55''</td>\n",
       "      <td>9° 7' 54.66''</td>\n",
       "      <td>7708.040201</td>\n",
       "    </tr>\n",
       "    <tr>\n",
       "      <th>9</th>\n",
       "      <td>Campo de Ourique</td>\n",
       "      <td>50</td>\n",
       "      <td>11</td>\n",
       "      <td>10</td>\n",
       "      <td>22120</td>\n",
       "      <td>1.65</td>\n",
       "      <td>38° 42'55.76''</td>\n",
       "      <td>9° 10' 8.16''</td>\n",
       "      <td>13406.060606</td>\n",
       "    </tr>\n",
       "    <tr>\n",
       "      <th>18</th>\n",
       "      <td>Penha de França</td>\n",
       "      <td>49</td>\n",
       "      <td>8</td>\n",
       "      <td>19</td>\n",
       "      <td>27967</td>\n",
       "      <td>2.71</td>\n",
       "      <td>38° 43' 48.62''</td>\n",
       "      <td>9° 7' 51.14''</td>\n",
       "      <td>10319.926199</td>\n",
       "    </tr>\n",
       "    <tr>\n",
       "      <th>5</th>\n",
       "      <td>Avenidas Novas</td>\n",
       "      <td>47</td>\n",
       "      <td>8</td>\n",
       "      <td>6</td>\n",
       "      <td>21625</td>\n",
       "      <td>2.99</td>\n",
       "      <td>38° 44' 27.93''</td>\n",
       "      <td>9° 8' 57.62''</td>\n",
       "      <td>7232.441472</td>\n",
       "    </tr>\n",
       "    <tr>\n",
       "      <th>12</th>\n",
       "      <td>Estrela</td>\n",
       "      <td>46</td>\n",
       "      <td>13</td>\n",
       "      <td>13</td>\n",
       "      <td>20128</td>\n",
       "      <td>4.60</td>\n",
       "      <td>38° 42' 39.30''</td>\n",
       "      <td>9° 9' 35.58''</td>\n",
       "      <td>4375.652174</td>\n",
       "    </tr>\n",
       "    <tr>\n",
       "      <th>2</th>\n",
       "      <td>Alvalade</td>\n",
       "      <td>42</td>\n",
       "      <td>11</td>\n",
       "      <td>3</td>\n",
       "      <td>31813</td>\n",
       "      <td>5.34</td>\n",
       "      <td>38° 44' 48.89''</td>\n",
       "      <td>9° 8' 25.93''</td>\n",
       "      <td>5957.490637</td>\n",
       "    </tr>\n",
       "    <tr>\n",
       "      <th>10</th>\n",
       "      <td>Campolide</td>\n",
       "      <td>35</td>\n",
       "      <td>10</td>\n",
       "      <td>11</td>\n",
       "      <td>15460</td>\n",
       "      <td>2.77</td>\n",
       "      <td>38° 43' 33.40''</td>\n",
       "      <td>9° 9' 51.93''</td>\n",
       "      <td>5581.227437</td>\n",
       "    </tr>\n",
       "    <tr>\n",
       "      <th>8</th>\n",
       "      <td>Benfica</td>\n",
       "      <td>35</td>\n",
       "      <td>7</td>\n",
       "      <td>9</td>\n",
       "      <td>36985</td>\n",
       "      <td>8.03</td>\n",
       "      <td>38° 44' 54.14''</td>\n",
       "      <td>9° 11' 58.67''</td>\n",
       "      <td>4605.853051</td>\n",
       "    </tr>\n",
       "    <tr>\n",
       "      <th>17</th>\n",
       "      <td>Parque das Nações</td>\n",
       "      <td>25</td>\n",
       "      <td>9</td>\n",
       "      <td>18</td>\n",
       "      <td>21025</td>\n",
       "      <td>5.44</td>\n",
       "      <td>38° 45' 41.29''</td>\n",
       "      <td>9° 5' 51.60''</td>\n",
       "      <td>3864.889706</td>\n",
       "    </tr>\n",
       "    <tr>\n",
       "      <th>22</th>\n",
       "      <td>São Domingos de Benfica</td>\n",
       "      <td>22</td>\n",
       "      <td>5</td>\n",
       "      <td>23</td>\n",
       "      <td>33043</td>\n",
       "      <td>4.29</td>\n",
       "      <td>38° 44' 44.89''</td>\n",
       "      <td>9° 11' 23.32''</td>\n",
       "      <td>7702.331002</td>\n",
       "    </tr>\n",
       "    <tr>\n",
       "      <th>11</th>\n",
       "      <td>Carnide</td>\n",
       "      <td>18</td>\n",
       "      <td>5</td>\n",
       "      <td>12</td>\n",
       "      <td>19218</td>\n",
       "      <td>3.69</td>\n",
       "      <td>38° 45' 34.84''</td>\n",
       "      <td>9° 11' 15.96''</td>\n",
       "      <td>5208.130081</td>\n",
       "    </tr>\n",
       "    <tr>\n",
       "      <th>13</th>\n",
       "      <td>Lumiar</td>\n",
       "      <td>16</td>\n",
       "      <td>9</td>\n",
       "      <td>14</td>\n",
       "      <td>45605</td>\n",
       "      <td>6.57</td>\n",
       "      <td>38° 46' 3.79''</td>\n",
       "      <td>9° 9' 36.66''</td>\n",
       "      <td>6941.400304</td>\n",
       "    </tr>\n",
       "    <tr>\n",
       "      <th>6</th>\n",
       "      <td>Beato</td>\n",
       "      <td>13</td>\n",
       "      <td>5</td>\n",
       "      <td>7</td>\n",
       "      <td>12737</td>\n",
       "      <td>2.46</td>\n",
       "      <td>38° 43' 33.29''</td>\n",
       "      <td>9° 6' 44.44''</td>\n",
       "      <td>5177.642276</td>\n",
       "    </tr>\n",
       "    <tr>\n",
       "      <th>0</th>\n",
       "      <td>Ajuda</td>\n",
       "      <td>12</td>\n",
       "      <td>14</td>\n",
       "      <td>1</td>\n",
       "      <td>15617</td>\n",
       "      <td>2.88</td>\n",
       "      <td>38° 42' 20.81''</td>\n",
       "      <td>9° 12' 4.77''</td>\n",
       "      <td>5422.569444</td>\n",
       "    </tr>\n",
       "    <tr>\n",
       "      <th>16</th>\n",
       "      <td>Olivais</td>\n",
       "      <td>8</td>\n",
       "      <td>7</td>\n",
       "      <td>17</td>\n",
       "      <td>33788</td>\n",
       "      <td>8.09</td>\n",
       "      <td>38° 46' 24.92''</td>\n",
       "      <td>9° 7' 1.41''</td>\n",
       "      <td>4176.514215</td>\n",
       "    </tr>\n",
       "    <tr>\n",
       "      <th>14</th>\n",
       "      <td>Marvila</td>\n",
       "      <td>5</td>\n",
       "      <td>18</td>\n",
       "      <td>15</td>\n",
       "      <td>37793</td>\n",
       "      <td>7.12</td>\n",
       "      <td>38° 44' 48.74''</td>\n",
       "      <td>9° 6' 37.29''</td>\n",
       "      <td>5308.005618</td>\n",
       "    </tr>\n",
       "    <tr>\n",
       "      <th>19</th>\n",
       "      <td>Santa Clara</td>\n",
       "      <td>5</td>\n",
       "      <td>9</td>\n",
       "      <td>20</td>\n",
       "      <td>22480</td>\n",
       "      <td>3.36</td>\n",
       "      <td>38° 46' 57.33''</td>\n",
       "      <td>9° 9' 42.01''</td>\n",
       "      <td>6690.476190</td>\n",
       "    </tr>\n",
       "  </tbody>\n",
       "</table>\n",
       "</div>"
      ],
      "text/plain": [
       "                      Parish  Venue  Count  Number  Population 2013  \\\n",
       "21             Santo António    100     12      22            11836   \n",
       "3                    Areeiro    100     12       4            20131   \n",
       "20         Santa Maria Maior    100     21      21            12822   \n",
       "4                    Arroios     85     19       5            31653   \n",
       "15              Misericórdia     72     11      16            13044   \n",
       "1                   Alcântra     66     13       2            13943   \n",
       "7                      Belém     65     11       8            16528   \n",
       "23               São Vicente     62     17      24            15339   \n",
       "9           Campo de Ourique     50     11      10            22120   \n",
       "18           Penha de França     49      8      19            27967   \n",
       "5             Avenidas Novas     47      8       6            21625   \n",
       "12                   Estrela     46     13      13            20128   \n",
       "2                   Alvalade     42     11       3            31813   \n",
       "10                 Campolide     35     10      11            15460   \n",
       "8                    Benfica     35      7       9            36985   \n",
       "17         Parque das Nações     25      9      18            21025   \n",
       "22   São Domingos de Benfica     22      5      23            33043   \n",
       "11                   Carnide     18      5      12            19218   \n",
       "13                    Lumiar     16      9      14            45605   \n",
       "6                      Beato     13      5       7            12737   \n",
       "0                      Ajuda     12     14       1            15617   \n",
       "16                   Olivais      8      7      17            33788   \n",
       "14                   Marvila      5     18      15            37793   \n",
       "19               Santa Clara      5      9      20            22480   \n",
       "\n",
       "    Area km^2               Lat             Long   Pop Density  \n",
       "21       1.49   38° 43' 19.15''    9° 9' 12.39''   7943.624161  \n",
       "3        1.74   38° 44' 42.43''    9° 8' 33.55''  11569.540230  \n",
       "20       3.01   38° 42' 41.10''    9° 8' 16.83''   4259.800664  \n",
       "4        2.13   38° 43' 15.63''     9° 8' 4.77''  14860.563380  \n",
       "15       2.19   38° 42' 40.12''     9° 9' 4.85''   5956.164384  \n",
       "1        5.07   38° 42' 17.44''   9° 10' 47.56''   2750.098619  \n",
       "7       10.43    38°41' 53.47''   9° 12' 24.34''   1584.659636  \n",
       "23       1.99   38° 43' 11.55''    9° 7' 54.66''   7708.040201  \n",
       "9        1.65    38° 42'55.76''    9° 10' 8.16''  13406.060606  \n",
       "18       2.71   38° 43' 48.62''    9° 7' 51.14''  10319.926199  \n",
       "5        2.99   38° 44' 27.93''    9° 8' 57.62''   7232.441472  \n",
       "12       4.60   38° 42' 39.30''    9° 9' 35.58''   4375.652174  \n",
       "2        5.34   38° 44' 48.89''    9° 8' 25.93''   5957.490637  \n",
       "10       2.77   38° 43' 33.40''    9° 9' 51.93''   5581.227437  \n",
       "8        8.03   38° 44' 54.14''   9° 11' 58.67''   4605.853051  \n",
       "17       5.44   38° 45' 41.29''    9° 5' 51.60''   3864.889706  \n",
       "22       4.29   38° 44' 44.89''   9° 11' 23.32''   7702.331002  \n",
       "11       3.69   38° 45' 34.84''   9° 11' 15.96''   5208.130081  \n",
       "13       6.57    38° 46' 3.79''    9° 9' 36.66''   6941.400304  \n",
       "6        2.46   38° 43' 33.29''    9° 6' 44.44''   5177.642276  \n",
       "0        2.88   38° 42' 20.81''    9° 12' 4.77''   5422.569444  \n",
       "16       8.09   38° 46' 24.92''     9° 7' 1.41''   4176.514215  \n",
       "14       7.12   38° 44' 48.74''    9° 6' 37.29''   5308.005618  \n",
       "19       3.36   38° 46' 57.33''    9° 9' 42.01''   6690.476190  "
      ]
     },
     "execution_count": 49,
     "metadata": {},
     "output_type": "execute_result"
    }
   ],
   "source": [
    "# dfvl: dataframe venues large radius\n",
    "dfvl=pd.read_csv('lisbonvenuesr500.csv')\n",
    "# dfvl: dataframe venues large radius counts\n",
    "dfvlc=dfvl.drop(['Unnamed: 0','Parish Latitude','Parish Longitude','Venue Latitude','Venue Longitude',\\\n",
    "                    'Venue Category'],axis=1,inplace=False).groupby('Parish').count()\n",
    "dfvlc.reset_index(drop=False,inplace=True)\n",
    "# dfm3: dataframe merging 3\n",
    "dfm3=pd.merge(left=dfvlc, right=dfm, left_on='Parish', right_on='Parish')\n",
    "dfm3.sort_values(['Venue'], ascending = False,inplace=True)\n",
    "dfm3"
   ]
  },
  {
   "cell_type": "code",
   "execution_count": 50,
   "metadata": {},
   "outputs": [
    {
     "data": {
      "image/png": "[encoded data removed]",
      "text/plain": [
       "<Figure size 648x360 with 1 Axes>"
      ]
     },
     "metadata": {
      "needs_background": "light"
     },
     "output_type": "display_data"
    }
   ],
   "source": [
    "parish=dfm3['Parish']\n",
    "venues=dfm3['Venue']\n",
    "\n",
    "sns.reset_orig()\n",
    "plt.figure(figsize=(9, 5))\n",
    "plt.title('Venues per Parish in Lisbon',fontsize=19)\n",
    "plt.ylabel('Venues per Area', fontsize=15)\n",
    "plt.xlabel('Parish',fontsize=15)\n",
    "plt.bar(parish,venues,width=0.4,color='y')\n",
    "plt.xticks(rotation = 90,fontsize=13)\n",
    "plt.yticks(fontsize=13)\n",
    "plt.savefig('venuesdens_parish.pdf',bbox_inches='tight')"
   ]
  },
  {
   "cell_type": "markdown",
   "metadata": {},
   "source": [
    "Plotting the correlation between the Venues and the number of Collectivities in each Parish, for a radius of 500 m."
   ]
  },
  {
   "cell_type": "code",
   "execution_count": 51,
   "metadata": {},
   "outputs": [
    {
     "data": {
      "image/png": "[encoded data removed]",
      "text/plain": [
       "<Figure size 504x360 with 1 Axes>"
      ]
     },
     "metadata": {},
     "output_type": "display_data"
    }
   ],
   "source": [
    "sns.set(rc={'figure.figsize':(7,5)})\n",
    "#sns.regplot(x='Count',y='Venue',data=dfm3,color='k')\n",
    "\n",
    "coll=dfm3['Count']\n",
    "venues=dfm3['Venue']\n",
    "plt.scatter(coll,venues,color='purple')\n",
    "plt.title('Venues vs Collectivities per Parish',fontsize=19)\n",
    "plt.xlabel('Collectivities', fontsize=15)\n",
    "plt.ylabel('Venues per Area',fontsize=15)\n",
    "plt.xticks(fontsize=13)\n",
    "plt.yticks(fontsize=13)\n",
    "plt.savefig('venuesdens_coll.pdf',bbox_inches='tight')"
   ]
  },
  {
   "cell_type": "code",
   "execution_count": 52,
   "metadata": {},
   "outputs": [
    {
     "name": "stdout",
     "output_type": "stream",
     "text": [
      "Pearson Coefficient: 0.5142834483740374\n",
      "Pearson p-value: 0.010139393232401359\n"
     ]
    }
   ],
   "source": [
    "pearson_coef,p_value=stats.pearsonr(dfm3['Count'],dfm3['Venue'])\n",
    "print('Pearson Coefficient:',pearson_coef)\n",
    "print('Pearson p-value:',p_value)"
   ]
  },
  {
   "cell_type": "markdown",
   "metadata": {},
   "source": [
    "At last, the correlation between the Venues and the number of Inhabitants in each Parish, for a radius of 500 m."
   ]
  },
  {
   "cell_type": "code",
   "execution_count": 53,
   "metadata": {},
   "outputs": [
    {
     "data": {
      "image/png": "[encoded data removed]",
      "text/plain": [
       "<Figure size 504x360 with 1 Axes>"
      ]
     },
     "metadata": {},
     "output_type": "display_data"
    }
   ],
   "source": [
    "sns.set(rc={'figure.figsize':(7,5)})\n",
    "\n",
    "pop=dfm3['Population 2013']\n",
    "venues=dfm3['Venue']\n",
    "plt.scatter(pop,venues,color='r')\n",
    "plt.title('Venues vs Population per Parish',fontsize=19)\n",
    "plt.xlabel('Population', fontsize=15)\n",
    "plt.ylabel('Venues per Area',fontsize=15)\n",
    "plt.xticks(fontsize=13)\n",
    "plt.yticks(fontsize=13)\n",
    "plt.savefig('venuesdens_pop.pdf',bbox_inches='tight')"
   ]
  },
  {
   "cell_type": "code",
   "execution_count": 54,
   "metadata": {},
   "outputs": [
    {
     "name": "stdout",
     "output_type": "stream",
     "text": [
      "Pearson Coefficient: -0.43272576398948465\n",
      "Pearson p-value: 0.03468397753089198\n"
     ]
    }
   ],
   "source": [
    "pearson_coef,p_value=stats.pearsonr(dfm3['Population 2013'],dfm3['Venue'])\n",
    "print('Pearson Coefficient:',pearson_coef)\n",
    "print('Pearson p-value:',p_value)"
   ]
  },
  {
   "cell_type": "markdown",
   "metadata": {},
   "source": [
    "Exptrapolation of the number of venues, within a radius of 500 m, to the total area of each parish:"
   ]
  },
  {
   "cell_type": "code",
   "execution_count": 56,
   "metadata": {},
   "outputs": [],
   "source": [
    "import math"
   ]
  },
  {
   "cell_type": "code",
   "execution_count": 57,
   "metadata": {},
   "outputs": [
    {
     "data": {
      "image/png": "[encoded data removed]",
      "text/plain": [
       "<Figure size 648x360 with 1 Axes>"
      ]
     },
     "metadata": {
      "needs_background": "light"
     },
     "output_type": "display_data"
    }
   ],
   "source": [
    "parish=dfm3['Parish']\n",
    "venues=dfm3['Venue']/(math.pi*0.5**2)*dfm3['Area km^2']\n",
    "\n",
    "sns.reset_orig()\n",
    "plt.figure(figsize=(9, 5))\n",
    "plt.title('Venues per Parish in Lisbon',fontsize=19)\n",
    "plt.ylabel('Venues', fontsize=15)\n",
    "plt.xlabel('Parish',fontsize=15)\n",
    "plt.bar(parish,venues,width=0.4,color='y')\n",
    "plt.xticks(rotation = 90,fontsize=13)\n",
    "plt.yticks(fontsize=13)\n",
    "plt.savefig('venuese_parish.pdf',bbox_inches='tight')"
   ]
  },
  {
   "cell_type": "code",
   "execution_count": 58,
   "metadata": {},
   "outputs": [
    {
     "data": {
      "text/html": [
       "<div>\n",
       "<style scoped>\n",
       "    .dataframe tbody tr th:only-of-type {\n",
       "        vertical-align: middle;\n",
       "    }\n",
       "\n",
       "    .dataframe tbody tr th {\n",
       "        vertical-align: top;\n",
       "    }\n",
       "\n",
       "    .dataframe thead th {\n",
       "        text-align: right;\n",
       "    }\n",
       "</style>\n",
       "<table border=\"1\" class=\"dataframe\">\n",
       "  <thead>\n",
       "    <tr style=\"text-align: right;\">\n",
       "      <th></th>\n",
       "      <th>Parish</th>\n",
       "      <th>Venue</th>\n",
       "      <th>Count</th>\n",
       "      <th>Number</th>\n",
       "      <th>Population 2013</th>\n",
       "      <th>Area km^2</th>\n",
       "      <th>Lat</th>\n",
       "      <th>Long</th>\n",
       "      <th>Pop Density</th>\n",
       "    </tr>\n",
       "  </thead>\n",
       "  <tbody>\n",
       "    <tr>\n",
       "      <th>4</th>\n",
       "      <td>Arroios</td>\n",
       "      <td>85</td>\n",
       "      <td>19</td>\n",
       "      <td>5</td>\n",
       "      <td>31653</td>\n",
       "      <td>2.13</td>\n",
       "      <td>38° 43' 15.63''</td>\n",
       "      <td>9° 8' 4.77''</td>\n",
       "      <td>14860.563380</td>\n",
       "    </tr>\n",
       "    <tr>\n",
       "      <th>9</th>\n",
       "      <td>Campo de Ourique</td>\n",
       "      <td>50</td>\n",
       "      <td>11</td>\n",
       "      <td>10</td>\n",
       "      <td>22120</td>\n",
       "      <td>1.65</td>\n",
       "      <td>38° 42'55.76''</td>\n",
       "      <td>9° 10' 8.16''</td>\n",
       "      <td>13406.060606</td>\n",
       "    </tr>\n",
       "    <tr>\n",
       "      <th>3</th>\n",
       "      <td>Areeiro</td>\n",
       "      <td>100</td>\n",
       "      <td>12</td>\n",
       "      <td>4</td>\n",
       "      <td>20131</td>\n",
       "      <td>1.74</td>\n",
       "      <td>38° 44' 42.43''</td>\n",
       "      <td>9° 8' 33.55''</td>\n",
       "      <td>11569.540230</td>\n",
       "    </tr>\n",
       "    <tr>\n",
       "      <th>18</th>\n",
       "      <td>Penha de França</td>\n",
       "      <td>49</td>\n",
       "      <td>8</td>\n",
       "      <td>19</td>\n",
       "      <td>27967</td>\n",
       "      <td>2.71</td>\n",
       "      <td>38° 43' 48.62''</td>\n",
       "      <td>9° 7' 51.14''</td>\n",
       "      <td>10319.926199</td>\n",
       "    </tr>\n",
       "    <tr>\n",
       "      <th>21</th>\n",
       "      <td>Santo António</td>\n",
       "      <td>100</td>\n",
       "      <td>12</td>\n",
       "      <td>22</td>\n",
       "      <td>11836</td>\n",
       "      <td>1.49</td>\n",
       "      <td>38° 43' 19.15''</td>\n",
       "      <td>9° 9' 12.39''</td>\n",
       "      <td>7943.624161</td>\n",
       "    </tr>\n",
       "  </tbody>\n",
       "</table>\n",
       "</div>"
      ],
      "text/plain": [
       "               Parish  Venue  Count  Number  Population 2013  Area km^2  \\\n",
       "4             Arroios     85     19       5            31653       2.13   \n",
       "9    Campo de Ourique     50     11      10            22120       1.65   \n",
       "3             Areeiro    100     12       4            20131       1.74   \n",
       "18    Penha de França     49      8      19            27967       2.71   \n",
       "21      Santo António    100     12      22            11836       1.49   \n",
       "\n",
       "                 Lat            Long   Pop Density  \n",
       "4    38° 43' 15.63''    9° 8' 4.77''  14860.563380  \n",
       "9     38° 42'55.76''   9° 10' 8.16''  13406.060606  \n",
       "3    38° 44' 42.43''   9° 8' 33.55''  11569.540230  \n",
       "18   38° 43' 48.62''   9° 7' 51.14''  10319.926199  \n",
       "21   38° 43' 19.15''   9° 9' 12.39''   7943.624161  "
      ]
     },
     "execution_count": 58,
     "metadata": {},
     "output_type": "execute_result"
    }
   ],
   "source": [
    "dfm3=dfm3.sort_values(['Pop Density'],ascending=False)\n",
    "dfm3.head()"
   ]
  },
  {
   "cell_type": "code",
   "execution_count": 59,
   "metadata": {},
   "outputs": [
    {
     "data": {
      "image/png": "[encoded data removed]",
      "text/plain": [
       "<Figure size 648x360 with 1 Axes>"
      ]
     },
     "metadata": {
      "needs_background": "light"
     },
     "output_type": "display_data"
    }
   ],
   "source": [
    "parish=dfm3['Parish']\n",
    "popd=dfm3['Pop Density']\n",
    "\n",
    "plt.figure(figsize=(9, 5))\n",
    "plt.title('Population per Parish in Lisbon',fontsize=19)\n",
    "plt.ylabel('Population density', fontsize=15)\n",
    "plt.xlabel('Parish',fontsize=15)\n",
    "plt.bar(parish,popd,width=0.4,color='gray')\n",
    "plt.xticks(rotation = 90,fontsize=13)\n",
    "plt.yticks(fontsize=13)\n",
    "plt.savefig('popd_parish.pdf',bbox_inches='tight')"
   ]
  },
  {
   "cell_type": "markdown",
   "metadata": {},
   "source": [
    "This result is in contradition with the plot above, corresponding to the extraction of venues with variable radius."
   ]
  },
  {
   "cell_type": "code",
   "execution_count": 60,
   "metadata": {},
   "outputs": [
    {
     "data": {
      "image/png": "[encoded data removed]",
      "text/plain": [
       "<Figure size 504x360 with 1 Axes>"
      ]
     },
     "metadata": {},
     "output_type": "display_data"
    }
   ],
   "source": [
    "sns.set(rc={'figure.figsize':(7,5)})\n",
    "\n",
    "pop=dfm3['Pop Density']*math.pi*0.5**2\n",
    "venues=dfm3['Venue']\n",
    "plt.scatter(pop,venues,color='r')\n",
    "plt.title('Venues vs Population per Parish',fontsize=19)\n",
    "plt.xlabel('Population per Area', fontsize=15)\n",
    "plt.ylabel('Venues per Area',fontsize=15)\n",
    "plt.xticks(fontsize=13)\n",
    "plt.yticks(fontsize=13)\n",
    "plt.savefig('venuesa_popa.pdf',bbox_inches='tight')"
   ]
  },
  {
   "cell_type": "code",
   "execution_count": 61,
   "metadata": {},
   "outputs": [
    {
     "name": "stdout",
     "output_type": "stream",
     "text": [
      "Pearson Coefficient: 0.32092184074371766\n",
      "Pearson p-value: 0.12625639135062583\n"
     ]
    }
   ],
   "source": [
    "pearson_coef,p_value=stats.pearsonr(pop,venues)\n",
    "print('Pearson Coefficient:',pearson_coef)\n",
    "print('Pearson p-value:',p_value)"
   ]
  },
  {
   "cell_type": "code",
   "execution_count": 62,
   "metadata": {},
   "outputs": [
    {
     "data": {
      "image/png": "[encoded data removed]",
      "text/plain": [
       "<Figure size 504x360 with 1 Axes>"
      ]
     },
     "metadata": {},
     "output_type": "display_data"
    }
   ],
   "source": [
    "sns.set(rc={'figure.figsize':(7,5)})\n",
    "#sns.regplot(x='Count',y='Venue',data=dfm3,color='k')\n",
    "\n",
    "coll=dfm3['Count']/dfm3['Area km^2']*math.pi*0.5**2\n",
    "venues=dfm3['Venue']\n",
    "plt.scatter(coll,venues,color='purple')\n",
    "plt.title('Venues vs Collectivities per Parish',fontsize=19)\n",
    "plt.xlabel('Collectivities per Area', fontsize=15)\n",
    "plt.ylabel('Venues per Area',fontsize=15)\n",
    "plt.xticks(fontsize=13)\n",
    "plt.yticks(fontsize=13)\n",
    "plt.savefig('venuesa_colla.pdf',bbox_inches='tight')"
   ]
  },
  {
   "cell_type": "code",
   "execution_count": 63,
   "metadata": {},
   "outputs": [
    {
     "name": "stdout",
     "output_type": "stream",
     "text": [
      "Pearson Coefficient: 0.7104679323160018\n",
      "Pearson p-value: 0.00010019415957184572\n"
     ]
    }
   ],
   "source": [
    "pearson_coef,p_value=stats.pearsonr(coll,venues)\n",
    "print('Pearson Coefficient:',pearson_coef)\n",
    "print('Pearson p-value:',p_value)"
   ]
  },
  {
   "cell_type": "markdown",
   "metadata": {},
   "source": [
    "A verification of the larger and smaller Parishes in area:"
   ]
  },
  {
   "cell_type": "code",
   "execution_count": 64,
   "metadata": {},
   "outputs": [
    {
     "data": {
      "text/html": [
       "<div>\n",
       "<style scoped>\n",
       "    .dataframe tbody tr th:only-of-type {\n",
       "        vertical-align: middle;\n",
       "    }\n",
       "\n",
       "    .dataframe tbody tr th {\n",
       "        vertical-align: top;\n",
       "    }\n",
       "\n",
       "    .dataframe thead th {\n",
       "        text-align: right;\n",
       "    }\n",
       "</style>\n",
       "<table border=\"1\" class=\"dataframe\">\n",
       "  <thead>\n",
       "    <tr style=\"text-align: right;\">\n",
       "      <th></th>\n",
       "      <th>Number</th>\n",
       "      <th>Parish</th>\n",
       "      <th>Population 2013</th>\n",
       "      <th>Area km^2</th>\n",
       "      <th>Latitude</th>\n",
       "      <th>Longitude</th>\n",
       "    </tr>\n",
       "  </thead>\n",
       "  <tbody>\n",
       "    <tr>\n",
       "      <th>7</th>\n",
       "      <td>8</td>\n",
       "      <td>Belém</td>\n",
       "      <td>16528</td>\n",
       "      <td>10.43</td>\n",
       "      <td>38.6982</td>\n",
       "      <td>-9.20676</td>\n",
       "    </tr>\n",
       "    <tr>\n",
       "      <th>16</th>\n",
       "      <td>17</td>\n",
       "      <td>Olivais</td>\n",
       "      <td>33788</td>\n",
       "      <td>8.09</td>\n",
       "      <td>38.7736</td>\n",
       "      <td>-9.11706</td>\n",
       "    </tr>\n",
       "    <tr>\n",
       "      <th>8</th>\n",
       "      <td>9</td>\n",
       "      <td>Benfica</td>\n",
       "      <td>36985</td>\n",
       "      <td>8.03</td>\n",
       "      <td>38.7484</td>\n",
       "      <td>-9.19963</td>\n",
       "    </tr>\n",
       "    <tr>\n",
       "      <th>14</th>\n",
       "      <td>15</td>\n",
       "      <td>Marvila</td>\n",
       "      <td>37793</td>\n",
       "      <td>7.12</td>\n",
       "      <td>38.7469</td>\n",
       "      <td>-9.11036</td>\n",
       "    </tr>\n",
       "    <tr>\n",
       "      <th>13</th>\n",
       "      <td>14</td>\n",
       "      <td>Lumiar</td>\n",
       "      <td>45605</td>\n",
       "      <td>6.57</td>\n",
       "      <td>38.7677</td>\n",
       "      <td>-9.16018</td>\n",
       "    </tr>\n",
       "    <tr>\n",
       "      <th>17</th>\n",
       "      <td>18</td>\n",
       "      <td>Parque das Nações</td>\n",
       "      <td>21025</td>\n",
       "      <td>5.44</td>\n",
       "      <td>38.7615</td>\n",
       "      <td>-9.09767</td>\n",
       "    </tr>\n",
       "    <tr>\n",
       "      <th>2</th>\n",
       "      <td>3</td>\n",
       "      <td>Alvalade</td>\n",
       "      <td>31813</td>\n",
       "      <td>5.34</td>\n",
       "      <td>38.7469</td>\n",
       "      <td>-9.14054</td>\n",
       "    </tr>\n",
       "  </tbody>\n",
       "</table>\n",
       "</div>"
      ],
      "text/plain": [
       "    Number              Parish  Population 2013  Area km^2 Latitude Longitude\n",
       "7        8               Belém            16528      10.43  38.6982  -9.20676\n",
       "16      17             Olivais            33788       8.09  38.7736  -9.11706\n",
       "8        9             Benfica            36985       8.03  38.7484  -9.19963\n",
       "14      15             Marvila            37793       7.12  38.7469  -9.11036\n",
       "13      14              Lumiar            45605       6.57  38.7677  -9.16018\n",
       "17      18   Parque das Nações            21025       5.44  38.7615  -9.09767\n",
       "2        3            Alvalade            31813       5.34  38.7469  -9.14054"
      ]
     },
     "execution_count": 64,
     "metadata": {},
     "output_type": "execute_result"
    }
   ],
   "source": [
    "dfpsp=dfp.sort_values(['Area km^2'],ascending=False)\n",
    "dfpsp.head(7)"
   ]
  },
  {
   "cell_type": "code",
   "execution_count": 65,
   "metadata": {},
   "outputs": [
    {
     "data": {
      "text/html": [
       "<div>\n",
       "<style scoped>\n",
       "    .dataframe tbody tr th:only-of-type {\n",
       "        vertical-align: middle;\n",
       "    }\n",
       "\n",
       "    .dataframe tbody tr th {\n",
       "        vertical-align: top;\n",
       "    }\n",
       "\n",
       "    .dataframe thead th {\n",
       "        text-align: right;\n",
       "    }\n",
       "</style>\n",
       "<table border=\"1\" class=\"dataframe\">\n",
       "  <thead>\n",
       "    <tr style=\"text-align: right;\">\n",
       "      <th></th>\n",
       "      <th>Number</th>\n",
       "      <th>Parish</th>\n",
       "      <th>Population 2013</th>\n",
       "      <th>Area km^2</th>\n",
       "      <th>Latitude</th>\n",
       "      <th>Longitude</th>\n",
       "    </tr>\n",
       "  </thead>\n",
       "  <tbody>\n",
       "    <tr>\n",
       "      <th>6</th>\n",
       "      <td>7</td>\n",
       "      <td>Beato</td>\n",
       "      <td>12737</td>\n",
       "      <td>2.46</td>\n",
       "      <td>38.7259</td>\n",
       "      <td>-9.11234</td>\n",
       "    </tr>\n",
       "    <tr>\n",
       "      <th>15</th>\n",
       "      <td>16</td>\n",
       "      <td>Misericórdia</td>\n",
       "      <td>13044</td>\n",
       "      <td>2.19</td>\n",
       "      <td>38.7111</td>\n",
       "      <td>-9.15135</td>\n",
       "    </tr>\n",
       "    <tr>\n",
       "      <th>4</th>\n",
       "      <td>5</td>\n",
       "      <td>Arroios</td>\n",
       "      <td>31653</td>\n",
       "      <td>2.13</td>\n",
       "      <td>38.721</td>\n",
       "      <td>-9.13466</td>\n",
       "    </tr>\n",
       "    <tr>\n",
       "      <th>23</th>\n",
       "      <td>24</td>\n",
       "      <td>São Vicente</td>\n",
       "      <td>15339</td>\n",
       "      <td>1.99</td>\n",
       "      <td>38.7199</td>\n",
       "      <td>-9.13185</td>\n",
       "    </tr>\n",
       "    <tr>\n",
       "      <th>3</th>\n",
       "      <td>4</td>\n",
       "      <td>Areeiro</td>\n",
       "      <td>20131</td>\n",
       "      <td>1.74</td>\n",
       "      <td>38.7451</td>\n",
       "      <td>-9.14265</td>\n",
       "    </tr>\n",
       "    <tr>\n",
       "      <th>9</th>\n",
       "      <td>10</td>\n",
       "      <td>Campo de Ourique</td>\n",
       "      <td>22120</td>\n",
       "      <td>1.65</td>\n",
       "      <td>38.7155</td>\n",
       "      <td>-9.16893</td>\n",
       "    </tr>\n",
       "    <tr>\n",
       "      <th>21</th>\n",
       "      <td>22</td>\n",
       "      <td>Santo António</td>\n",
       "      <td>11836</td>\n",
       "      <td>1.49</td>\n",
       "      <td>38.722</td>\n",
       "      <td>-9.15344</td>\n",
       "    </tr>\n",
       "  </tbody>\n",
       "</table>\n",
       "</div>"
      ],
      "text/plain": [
       "    Number             Parish  Population 2013  Area km^2 Latitude Longitude\n",
       "6        7              Beato            12737       2.46  38.7259  -9.11234\n",
       "15      16       Misericórdia            13044       2.19  38.7111  -9.15135\n",
       "4        5            Arroios            31653       2.13   38.721  -9.13466\n",
       "23      24        São Vicente            15339       1.99  38.7199  -9.13185\n",
       "3        4            Areeiro            20131       1.74  38.7451  -9.14265\n",
       "9       10   Campo de Ourique            22120       1.65  38.7155  -9.16893\n",
       "21      22      Santo António            11836       1.49   38.722  -9.15344"
      ]
     },
     "execution_count": 65,
     "metadata": {},
     "output_type": "execute_result"
    }
   ],
   "source": [
    "dfpsp.tail(7)"
   ]
  },
  {
   "cell_type": "markdown",
   "metadata": {},
   "source": [
    "The discussion of the results is treated in the associated report.\n",
    "\n",
    "End of Notebook 1."
   ]
  }
 ],
 "metadata": {
  "kernelspec": {
   "display_name": "Python 3",
   "language": "python",
   "name": "python3"
  },
  "language_info": {
   "codemirror_mode": {
    "name": "ipython",
    "version": 3
   },
   "file_extension": ".py",
   "mimetype": "text/x-python",
   "name": "python",
   "nbconvert_exporter": "python",
   "pygments_lexer": "ipython3",
   "version": "3.9.1"
  }
 },
 "nbformat": 4,
 "nbformat_minor": 4
}
